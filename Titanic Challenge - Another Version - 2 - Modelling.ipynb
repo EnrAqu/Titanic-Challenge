{
 "cells": [
  {
   "cell_type": "markdown",
   "metadata": {},
   "source": [
    "# Modelling\n",
    "\n",
    "## Preprocessing\n",
    "\n",
    "In this part, we use our knowledge of the passengers based on the features we created and then build a statistical model. \n",
    "\n",
    "There is a wide variety of models to use, from logistic regression to decision trees and more sophisticated ones such as random forests and gradient boosted trees.\n",
    "\n",
    "Back to our problem, we now have to:\n",
    "\n",
    "1. Break the combined dataset in train set and test set.\n",
    "2. Use the train set to build a predictive model.\n",
    "3. Evaluate the model using the train set.\n",
    "4. Test the model using the test set and generate and output file for the submission.\n",
    "\n",
    "Keep in mind that we'll have to reiterate on 2. and 3. until an acceptable evaluation score is achieved.\n",
    "\n",
    "Let's start by importing the useful libraries."
   ]
  },
  {
   "cell_type": "code",
   "execution_count": 75,
   "metadata": {
    "ExecuteTime": {
     "end_time": "2020-08-19T15:34:25.743652Z",
     "start_time": "2020-08-19T15:34:25.732681Z"
    }
   },
   "outputs": [],
   "source": [
    "import pandas as pd\n",
    "import numpy as np\n",
    "import matplotlib.pyplot as plt\n",
    "import seaborn as sns\n",
    "%matplotlib inline\n",
    "\n",
    "from sklearn.pipeline import make_pipeline\n",
    "from sklearn.ensemble import RandomForestClassifier\n",
    "from sklearn.ensemble.gradient_boosting import GradientBoostingClassifier\n",
    "from sklearn.feature_selection import SelectKBest\n",
    "from sklearn.model_selection import StratifiedKFold\n",
    "from sklearn.model_selection import RandomizedSearchCV, GridSearchCV\n",
    "from sklearn.model_selection import train_test_split, cross_val_score\n",
    "from sklearn.feature_selection import SelectFromModel\n",
    "from sklearn.linear_model import LogisticRegression, LogisticRegressionCV\n",
    "\n",
    "from sklearn.metrics import confusion_matrix, classification_report\n",
    "from sklearn.metrics import precision_score, recall_score, f1_score\n",
    "from sklearn.metrics import plot_roc_curve\n",
    "\n",
    "import pickle\n",
    "\n",
    "import warnings\n",
    "warnings.filterwarnings('ignore')\n",
    "warnings.filterwarnings('ignore', category=DeprecationWarning)\n"
   ]
  },
  {
   "cell_type": "markdown",
   "metadata": {},
   "source": [
    "To evaluate our model we'll be using a 5-fold cross validation with the accuracy since it's the metric that the competition uses in the leaderboard.\n",
    "\n",
    "To do that, we'll define a small scoring function."
   ]
  },
  {
   "cell_type": "code",
   "execution_count": 46,
   "metadata": {
    "ExecuteTime": {
     "end_time": "2020-08-19T14:04:00.818263Z",
     "start_time": "2020-08-19T14:04:00.813277Z"
    }
   },
   "outputs": [],
   "source": [
    "def compute_score(clf, X, y, scoring='accuracy'):\n",
    "    xval = cross_val_score(clf, X, y, cv = 5, scoring=scoring, verbose=0)\n",
    "    return np.mean(xval)"
   ]
  },
  {
   "cell_type": "markdown",
   "metadata": {},
   "source": [
    "Recovering the train set and the test set from the combined dataset is an easy task."
   ]
  },
  {
   "cell_type": "code",
   "execution_count": 9,
   "metadata": {
    "ExecuteTime": {
     "end_time": "2020-08-19T12:53:19.205572Z",
     "start_time": "2020-08-19T12:53:19.173315Z"
    }
   },
   "outputs": [],
   "source": [
    "train_with_labels = pd.read_csv(\"data/new_train.csv\")\n",
    "targets = train_with_labels[\"Target\"]\n",
    "train = train_with_labels.drop(\"Target\", axis=1)\n",
    "test =  pd.read_csv(\"data/new_test.csv\")"
   ]
  },
  {
   "cell_type": "code",
   "execution_count": 10,
   "metadata": {
    "ExecuteTime": {
     "end_time": "2020-08-19T12:53:21.070902Z",
     "start_time": "2020-08-19T12:53:21.044980Z"
    }
   },
   "outputs": [
    {
     "data": {
      "text/html": [
       "<div>\n",
       "<style scoped>\n",
       "    .dataframe tbody tr th:only-of-type {\n",
       "        vertical-align: middle;\n",
       "    }\n",
       "\n",
       "    .dataframe tbody tr th {\n",
       "        vertical-align: top;\n",
       "    }\n",
       "\n",
       "    .dataframe thead th {\n",
       "        text-align: right;\n",
       "    }\n",
       "</style>\n",
       "<table border=\"1\" class=\"dataframe\">\n",
       "  <thead>\n",
       "    <tr style=\"text-align: right;\">\n",
       "      <th></th>\n",
       "      <th>Sex</th>\n",
       "      <th>Age</th>\n",
       "      <th>SibSp</th>\n",
       "      <th>Parch</th>\n",
       "      <th>Fare</th>\n",
       "      <th>Title_Master</th>\n",
       "      <th>Title_Miss</th>\n",
       "      <th>Title_Mr</th>\n",
       "      <th>Title_Mrs</th>\n",
       "      <th>Title_Officer</th>\n",
       "      <th>...</th>\n",
       "      <th>Ticket_STONO2</th>\n",
       "      <th>Ticket_STONOQ</th>\n",
       "      <th>Ticket_SWPP</th>\n",
       "      <th>Ticket_WC</th>\n",
       "      <th>Ticket_WEP</th>\n",
       "      <th>Ticket_XXX</th>\n",
       "      <th>FamilySize</th>\n",
       "      <th>Singleton</th>\n",
       "      <th>SmallFamily</th>\n",
       "      <th>LargeFamily</th>\n",
       "    </tr>\n",
       "  </thead>\n",
       "  <tbody>\n",
       "    <tr>\n",
       "      <th>0</th>\n",
       "      <td>1</td>\n",
       "      <td>22.0</td>\n",
       "      <td>1</td>\n",
       "      <td>0</td>\n",
       "      <td>7.2500</td>\n",
       "      <td>0</td>\n",
       "      <td>0</td>\n",
       "      <td>1</td>\n",
       "      <td>0</td>\n",
       "      <td>0</td>\n",
       "      <td>...</td>\n",
       "      <td>0</td>\n",
       "      <td>0</td>\n",
       "      <td>0</td>\n",
       "      <td>0</td>\n",
       "      <td>0</td>\n",
       "      <td>0</td>\n",
       "      <td>2</td>\n",
       "      <td>0</td>\n",
       "      <td>1</td>\n",
       "      <td>0</td>\n",
       "    </tr>\n",
       "    <tr>\n",
       "      <th>1</th>\n",
       "      <td>0</td>\n",
       "      <td>38.0</td>\n",
       "      <td>1</td>\n",
       "      <td>0</td>\n",
       "      <td>71.2833</td>\n",
       "      <td>0</td>\n",
       "      <td>0</td>\n",
       "      <td>0</td>\n",
       "      <td>1</td>\n",
       "      <td>0</td>\n",
       "      <td>...</td>\n",
       "      <td>0</td>\n",
       "      <td>0</td>\n",
       "      <td>0</td>\n",
       "      <td>0</td>\n",
       "      <td>0</td>\n",
       "      <td>0</td>\n",
       "      <td>2</td>\n",
       "      <td>0</td>\n",
       "      <td>1</td>\n",
       "      <td>0</td>\n",
       "    </tr>\n",
       "    <tr>\n",
       "      <th>2</th>\n",
       "      <td>0</td>\n",
       "      <td>26.0</td>\n",
       "      <td>0</td>\n",
       "      <td>0</td>\n",
       "      <td>7.9250</td>\n",
       "      <td>0</td>\n",
       "      <td>1</td>\n",
       "      <td>0</td>\n",
       "      <td>0</td>\n",
       "      <td>0</td>\n",
       "      <td>...</td>\n",
       "      <td>1</td>\n",
       "      <td>0</td>\n",
       "      <td>0</td>\n",
       "      <td>0</td>\n",
       "      <td>0</td>\n",
       "      <td>0</td>\n",
       "      <td>1</td>\n",
       "      <td>1</td>\n",
       "      <td>0</td>\n",
       "      <td>0</td>\n",
       "    </tr>\n",
       "    <tr>\n",
       "      <th>3</th>\n",
       "      <td>0</td>\n",
       "      <td>35.0</td>\n",
       "      <td>1</td>\n",
       "      <td>0</td>\n",
       "      <td>53.1000</td>\n",
       "      <td>0</td>\n",
       "      <td>0</td>\n",
       "      <td>0</td>\n",
       "      <td>1</td>\n",
       "      <td>0</td>\n",
       "      <td>...</td>\n",
       "      <td>0</td>\n",
       "      <td>0</td>\n",
       "      <td>0</td>\n",
       "      <td>0</td>\n",
       "      <td>0</td>\n",
       "      <td>1</td>\n",
       "      <td>2</td>\n",
       "      <td>0</td>\n",
       "      <td>1</td>\n",
       "      <td>0</td>\n",
       "    </tr>\n",
       "    <tr>\n",
       "      <th>4</th>\n",
       "      <td>1</td>\n",
       "      <td>35.0</td>\n",
       "      <td>0</td>\n",
       "      <td>0</td>\n",
       "      <td>8.0500</td>\n",
       "      <td>0</td>\n",
       "      <td>0</td>\n",
       "      <td>1</td>\n",
       "      <td>0</td>\n",
       "      <td>0</td>\n",
       "      <td>...</td>\n",
       "      <td>0</td>\n",
       "      <td>0</td>\n",
       "      <td>0</td>\n",
       "      <td>0</td>\n",
       "      <td>0</td>\n",
       "      <td>1</td>\n",
       "      <td>1</td>\n",
       "      <td>1</td>\n",
       "      <td>0</td>\n",
       "      <td>0</td>\n",
       "    </tr>\n",
       "    <tr>\n",
       "      <th>...</th>\n",
       "      <td>...</td>\n",
       "      <td>...</td>\n",
       "      <td>...</td>\n",
       "      <td>...</td>\n",
       "      <td>...</td>\n",
       "      <td>...</td>\n",
       "      <td>...</td>\n",
       "      <td>...</td>\n",
       "      <td>...</td>\n",
       "      <td>...</td>\n",
       "      <td>...</td>\n",
       "      <td>...</td>\n",
       "      <td>...</td>\n",
       "      <td>...</td>\n",
       "      <td>...</td>\n",
       "      <td>...</td>\n",
       "      <td>...</td>\n",
       "      <td>...</td>\n",
       "      <td>...</td>\n",
       "      <td>...</td>\n",
       "      <td>...</td>\n",
       "    </tr>\n",
       "    <tr>\n",
       "      <th>886</th>\n",
       "      <td>1</td>\n",
       "      <td>27.0</td>\n",
       "      <td>0</td>\n",
       "      <td>0</td>\n",
       "      <td>13.0000</td>\n",
       "      <td>0</td>\n",
       "      <td>0</td>\n",
       "      <td>0</td>\n",
       "      <td>0</td>\n",
       "      <td>1</td>\n",
       "      <td>...</td>\n",
       "      <td>0</td>\n",
       "      <td>0</td>\n",
       "      <td>0</td>\n",
       "      <td>0</td>\n",
       "      <td>0</td>\n",
       "      <td>1</td>\n",
       "      <td>1</td>\n",
       "      <td>1</td>\n",
       "      <td>0</td>\n",
       "      <td>0</td>\n",
       "    </tr>\n",
       "    <tr>\n",
       "      <th>887</th>\n",
       "      <td>0</td>\n",
       "      <td>19.0</td>\n",
       "      <td>0</td>\n",
       "      <td>0</td>\n",
       "      <td>30.0000</td>\n",
       "      <td>0</td>\n",
       "      <td>1</td>\n",
       "      <td>0</td>\n",
       "      <td>0</td>\n",
       "      <td>0</td>\n",
       "      <td>...</td>\n",
       "      <td>0</td>\n",
       "      <td>0</td>\n",
       "      <td>0</td>\n",
       "      <td>0</td>\n",
       "      <td>0</td>\n",
       "      <td>1</td>\n",
       "      <td>1</td>\n",
       "      <td>1</td>\n",
       "      <td>0</td>\n",
       "      <td>0</td>\n",
       "    </tr>\n",
       "    <tr>\n",
       "      <th>888</th>\n",
       "      <td>0</td>\n",
       "      <td>18.0</td>\n",
       "      <td>1</td>\n",
       "      <td>2</td>\n",
       "      <td>23.4500</td>\n",
       "      <td>0</td>\n",
       "      <td>1</td>\n",
       "      <td>0</td>\n",
       "      <td>0</td>\n",
       "      <td>0</td>\n",
       "      <td>...</td>\n",
       "      <td>0</td>\n",
       "      <td>0</td>\n",
       "      <td>0</td>\n",
       "      <td>1</td>\n",
       "      <td>0</td>\n",
       "      <td>0</td>\n",
       "      <td>4</td>\n",
       "      <td>0</td>\n",
       "      <td>1</td>\n",
       "      <td>0</td>\n",
       "    </tr>\n",
       "    <tr>\n",
       "      <th>889</th>\n",
       "      <td>1</td>\n",
       "      <td>26.0</td>\n",
       "      <td>0</td>\n",
       "      <td>0</td>\n",
       "      <td>30.0000</td>\n",
       "      <td>0</td>\n",
       "      <td>0</td>\n",
       "      <td>1</td>\n",
       "      <td>0</td>\n",
       "      <td>0</td>\n",
       "      <td>...</td>\n",
       "      <td>0</td>\n",
       "      <td>0</td>\n",
       "      <td>0</td>\n",
       "      <td>0</td>\n",
       "      <td>0</td>\n",
       "      <td>1</td>\n",
       "      <td>1</td>\n",
       "      <td>1</td>\n",
       "      <td>0</td>\n",
       "      <td>0</td>\n",
       "    </tr>\n",
       "    <tr>\n",
       "      <th>890</th>\n",
       "      <td>1</td>\n",
       "      <td>32.0</td>\n",
       "      <td>0</td>\n",
       "      <td>0</td>\n",
       "      <td>7.7500</td>\n",
       "      <td>0</td>\n",
       "      <td>0</td>\n",
       "      <td>1</td>\n",
       "      <td>0</td>\n",
       "      <td>0</td>\n",
       "      <td>...</td>\n",
       "      <td>0</td>\n",
       "      <td>0</td>\n",
       "      <td>0</td>\n",
       "      <td>0</td>\n",
       "      <td>0</td>\n",
       "      <td>1</td>\n",
       "      <td>1</td>\n",
       "      <td>1</td>\n",
       "      <td>0</td>\n",
       "      <td>0</td>\n",
       "    </tr>\n",
       "  </tbody>\n",
       "</table>\n",
       "<p>891 rows × 67 columns</p>\n",
       "</div>"
      ],
      "text/plain": [
       "     Sex   Age  SibSp  Parch     Fare  Title_Master  Title_Miss  Title_Mr  \\\n",
       "0      1  22.0      1      0   7.2500             0           0         1   \n",
       "1      0  38.0      1      0  71.2833             0           0         0   \n",
       "2      0  26.0      0      0   7.9250             0           1         0   \n",
       "3      0  35.0      1      0  53.1000             0           0         0   \n",
       "4      1  35.0      0      0   8.0500             0           0         1   \n",
       "..   ...   ...    ...    ...      ...           ...         ...       ...   \n",
       "886    1  27.0      0      0  13.0000             0           0         0   \n",
       "887    0  19.0      0      0  30.0000             0           1         0   \n",
       "888    0  18.0      1      2  23.4500             0           1         0   \n",
       "889    1  26.0      0      0  30.0000             0           0         1   \n",
       "890    1  32.0      0      0   7.7500             0           0         1   \n",
       "\n",
       "     Title_Mrs  Title_Officer  ...  Ticket_STONO2  Ticket_STONOQ  Ticket_SWPP  \\\n",
       "0            0              0  ...              0              0            0   \n",
       "1            1              0  ...              0              0            0   \n",
       "2            0              0  ...              1              0            0   \n",
       "3            1              0  ...              0              0            0   \n",
       "4            0              0  ...              0              0            0   \n",
       "..         ...            ...  ...            ...            ...          ...   \n",
       "886          0              1  ...              0              0            0   \n",
       "887          0              0  ...              0              0            0   \n",
       "888          0              0  ...              0              0            0   \n",
       "889          0              0  ...              0              0            0   \n",
       "890          0              0  ...              0              0            0   \n",
       "\n",
       "     Ticket_WC  Ticket_WEP  Ticket_XXX  FamilySize  Singleton  SmallFamily  \\\n",
       "0            0           0           0           2          0            1   \n",
       "1            0           0           0           2          0            1   \n",
       "2            0           0           0           1          1            0   \n",
       "3            0           0           1           2          0            1   \n",
       "4            0           0           1           1          1            0   \n",
       "..         ...         ...         ...         ...        ...          ...   \n",
       "886          0           0           1           1          1            0   \n",
       "887          0           0           1           1          1            0   \n",
       "888          1           0           0           4          0            1   \n",
       "889          0           0           1           1          1            0   \n",
       "890          0           0           1           1          1            0   \n",
       "\n",
       "     LargeFamily  \n",
       "0              0  \n",
       "1              0  \n",
       "2              0  \n",
       "3              0  \n",
       "4              0  \n",
       "..           ...  \n",
       "886            0  \n",
       "887            0  \n",
       "888            0  \n",
       "889            0  \n",
       "890            0  \n",
       "\n",
       "[891 rows x 67 columns]"
      ]
     },
     "execution_count": 10,
     "metadata": {},
     "output_type": "execute_result"
    }
   ],
   "source": [
    "train"
   ]
  },
  {
   "cell_type": "code",
   "execution_count": 11,
   "metadata": {
    "ExecuteTime": {
     "end_time": "2020-08-19T12:53:25.446819Z",
     "start_time": "2020-08-19T12:53:25.421885Z"
    }
   },
   "outputs": [
    {
     "data": {
      "text/html": [
       "<div>\n",
       "<style scoped>\n",
       "    .dataframe tbody tr th:only-of-type {\n",
       "        vertical-align: middle;\n",
       "    }\n",
       "\n",
       "    .dataframe tbody tr th {\n",
       "        vertical-align: top;\n",
       "    }\n",
       "\n",
       "    .dataframe thead th {\n",
       "        text-align: right;\n",
       "    }\n",
       "</style>\n",
       "<table border=\"1\" class=\"dataframe\">\n",
       "  <thead>\n",
       "    <tr style=\"text-align: right;\">\n",
       "      <th></th>\n",
       "      <th>Sex</th>\n",
       "      <th>Age</th>\n",
       "      <th>SibSp</th>\n",
       "      <th>Parch</th>\n",
       "      <th>Fare</th>\n",
       "      <th>Title_Master</th>\n",
       "      <th>Title_Miss</th>\n",
       "      <th>Title_Mr</th>\n",
       "      <th>Title_Mrs</th>\n",
       "      <th>Title_Officer</th>\n",
       "      <th>...</th>\n",
       "      <th>Ticket_STONO2</th>\n",
       "      <th>Ticket_STONOQ</th>\n",
       "      <th>Ticket_SWPP</th>\n",
       "      <th>Ticket_WC</th>\n",
       "      <th>Ticket_WEP</th>\n",
       "      <th>Ticket_XXX</th>\n",
       "      <th>FamilySize</th>\n",
       "      <th>Singleton</th>\n",
       "      <th>SmallFamily</th>\n",
       "      <th>LargeFamily</th>\n",
       "    </tr>\n",
       "  </thead>\n",
       "  <tbody>\n",
       "    <tr>\n",
       "      <th>0</th>\n",
       "      <td>1</td>\n",
       "      <td>34.5</td>\n",
       "      <td>0</td>\n",
       "      <td>0</td>\n",
       "      <td>7.8292</td>\n",
       "      <td>0</td>\n",
       "      <td>0</td>\n",
       "      <td>1</td>\n",
       "      <td>0</td>\n",
       "      <td>0</td>\n",
       "      <td>...</td>\n",
       "      <td>0</td>\n",
       "      <td>0</td>\n",
       "      <td>0</td>\n",
       "      <td>0</td>\n",
       "      <td>0</td>\n",
       "      <td>1</td>\n",
       "      <td>1</td>\n",
       "      <td>1</td>\n",
       "      <td>0</td>\n",
       "      <td>0</td>\n",
       "    </tr>\n",
       "    <tr>\n",
       "      <th>1</th>\n",
       "      <td>0</td>\n",
       "      <td>47.0</td>\n",
       "      <td>1</td>\n",
       "      <td>0</td>\n",
       "      <td>7.0000</td>\n",
       "      <td>0</td>\n",
       "      <td>0</td>\n",
       "      <td>0</td>\n",
       "      <td>1</td>\n",
       "      <td>0</td>\n",
       "      <td>...</td>\n",
       "      <td>0</td>\n",
       "      <td>0</td>\n",
       "      <td>0</td>\n",
       "      <td>0</td>\n",
       "      <td>0</td>\n",
       "      <td>1</td>\n",
       "      <td>2</td>\n",
       "      <td>0</td>\n",
       "      <td>1</td>\n",
       "      <td>0</td>\n",
       "    </tr>\n",
       "    <tr>\n",
       "      <th>2</th>\n",
       "      <td>1</td>\n",
       "      <td>62.0</td>\n",
       "      <td>0</td>\n",
       "      <td>0</td>\n",
       "      <td>9.6875</td>\n",
       "      <td>0</td>\n",
       "      <td>0</td>\n",
       "      <td>1</td>\n",
       "      <td>0</td>\n",
       "      <td>0</td>\n",
       "      <td>...</td>\n",
       "      <td>0</td>\n",
       "      <td>0</td>\n",
       "      <td>0</td>\n",
       "      <td>0</td>\n",
       "      <td>0</td>\n",
       "      <td>1</td>\n",
       "      <td>1</td>\n",
       "      <td>1</td>\n",
       "      <td>0</td>\n",
       "      <td>0</td>\n",
       "    </tr>\n",
       "    <tr>\n",
       "      <th>3</th>\n",
       "      <td>1</td>\n",
       "      <td>27.0</td>\n",
       "      <td>0</td>\n",
       "      <td>0</td>\n",
       "      <td>8.6625</td>\n",
       "      <td>0</td>\n",
       "      <td>0</td>\n",
       "      <td>1</td>\n",
       "      <td>0</td>\n",
       "      <td>0</td>\n",
       "      <td>...</td>\n",
       "      <td>0</td>\n",
       "      <td>0</td>\n",
       "      <td>0</td>\n",
       "      <td>0</td>\n",
       "      <td>0</td>\n",
       "      <td>1</td>\n",
       "      <td>1</td>\n",
       "      <td>1</td>\n",
       "      <td>0</td>\n",
       "      <td>0</td>\n",
       "    </tr>\n",
       "    <tr>\n",
       "      <th>4</th>\n",
       "      <td>0</td>\n",
       "      <td>22.0</td>\n",
       "      <td>1</td>\n",
       "      <td>1</td>\n",
       "      <td>12.2875</td>\n",
       "      <td>0</td>\n",
       "      <td>0</td>\n",
       "      <td>0</td>\n",
       "      <td>1</td>\n",
       "      <td>0</td>\n",
       "      <td>...</td>\n",
       "      <td>0</td>\n",
       "      <td>0</td>\n",
       "      <td>0</td>\n",
       "      <td>0</td>\n",
       "      <td>0</td>\n",
       "      <td>1</td>\n",
       "      <td>3</td>\n",
       "      <td>0</td>\n",
       "      <td>1</td>\n",
       "      <td>0</td>\n",
       "    </tr>\n",
       "    <tr>\n",
       "      <th>...</th>\n",
       "      <td>...</td>\n",
       "      <td>...</td>\n",
       "      <td>...</td>\n",
       "      <td>...</td>\n",
       "      <td>...</td>\n",
       "      <td>...</td>\n",
       "      <td>...</td>\n",
       "      <td>...</td>\n",
       "      <td>...</td>\n",
       "      <td>...</td>\n",
       "      <td>...</td>\n",
       "      <td>...</td>\n",
       "      <td>...</td>\n",
       "      <td>...</td>\n",
       "      <td>...</td>\n",
       "      <td>...</td>\n",
       "      <td>...</td>\n",
       "      <td>...</td>\n",
       "      <td>...</td>\n",
       "      <td>...</td>\n",
       "      <td>...</td>\n",
       "    </tr>\n",
       "    <tr>\n",
       "      <th>413</th>\n",
       "      <td>1</td>\n",
       "      <td>26.0</td>\n",
       "      <td>0</td>\n",
       "      <td>0</td>\n",
       "      <td>8.0500</td>\n",
       "      <td>0</td>\n",
       "      <td>0</td>\n",
       "      <td>1</td>\n",
       "      <td>0</td>\n",
       "      <td>0</td>\n",
       "      <td>...</td>\n",
       "      <td>0</td>\n",
       "      <td>0</td>\n",
       "      <td>0</td>\n",
       "      <td>0</td>\n",
       "      <td>0</td>\n",
       "      <td>0</td>\n",
       "      <td>1</td>\n",
       "      <td>1</td>\n",
       "      <td>0</td>\n",
       "      <td>0</td>\n",
       "    </tr>\n",
       "    <tr>\n",
       "      <th>414</th>\n",
       "      <td>0</td>\n",
       "      <td>39.0</td>\n",
       "      <td>0</td>\n",
       "      <td>0</td>\n",
       "      <td>108.9000</td>\n",
       "      <td>0</td>\n",
       "      <td>0</td>\n",
       "      <td>0</td>\n",
       "      <td>0</td>\n",
       "      <td>0</td>\n",
       "      <td>...</td>\n",
       "      <td>0</td>\n",
       "      <td>0</td>\n",
       "      <td>0</td>\n",
       "      <td>0</td>\n",
       "      <td>0</td>\n",
       "      <td>0</td>\n",
       "      <td>1</td>\n",
       "      <td>1</td>\n",
       "      <td>0</td>\n",
       "      <td>0</td>\n",
       "    </tr>\n",
       "    <tr>\n",
       "      <th>415</th>\n",
       "      <td>1</td>\n",
       "      <td>38.5</td>\n",
       "      <td>0</td>\n",
       "      <td>0</td>\n",
       "      <td>7.2500</td>\n",
       "      <td>0</td>\n",
       "      <td>0</td>\n",
       "      <td>1</td>\n",
       "      <td>0</td>\n",
       "      <td>0</td>\n",
       "      <td>...</td>\n",
       "      <td>0</td>\n",
       "      <td>0</td>\n",
       "      <td>0</td>\n",
       "      <td>0</td>\n",
       "      <td>0</td>\n",
       "      <td>0</td>\n",
       "      <td>1</td>\n",
       "      <td>1</td>\n",
       "      <td>0</td>\n",
       "      <td>0</td>\n",
       "    </tr>\n",
       "    <tr>\n",
       "      <th>416</th>\n",
       "      <td>1</td>\n",
       "      <td>26.0</td>\n",
       "      <td>0</td>\n",
       "      <td>0</td>\n",
       "      <td>8.0500</td>\n",
       "      <td>0</td>\n",
       "      <td>0</td>\n",
       "      <td>1</td>\n",
       "      <td>0</td>\n",
       "      <td>0</td>\n",
       "      <td>...</td>\n",
       "      <td>0</td>\n",
       "      <td>0</td>\n",
       "      <td>0</td>\n",
       "      <td>0</td>\n",
       "      <td>0</td>\n",
       "      <td>1</td>\n",
       "      <td>1</td>\n",
       "      <td>1</td>\n",
       "      <td>0</td>\n",
       "      <td>0</td>\n",
       "    </tr>\n",
       "    <tr>\n",
       "      <th>417</th>\n",
       "      <td>1</td>\n",
       "      <td>4.0</td>\n",
       "      <td>1</td>\n",
       "      <td>1</td>\n",
       "      <td>22.3583</td>\n",
       "      <td>1</td>\n",
       "      <td>0</td>\n",
       "      <td>0</td>\n",
       "      <td>0</td>\n",
       "      <td>0</td>\n",
       "      <td>...</td>\n",
       "      <td>0</td>\n",
       "      <td>0</td>\n",
       "      <td>0</td>\n",
       "      <td>0</td>\n",
       "      <td>0</td>\n",
       "      <td>1</td>\n",
       "      <td>3</td>\n",
       "      <td>0</td>\n",
       "      <td>1</td>\n",
       "      <td>0</td>\n",
       "    </tr>\n",
       "  </tbody>\n",
       "</table>\n",
       "<p>418 rows × 67 columns</p>\n",
       "</div>"
      ],
      "text/plain": [
       "     Sex   Age  SibSp  Parch      Fare  Title_Master  Title_Miss  Title_Mr  \\\n",
       "0      1  34.5      0      0    7.8292             0           0         1   \n",
       "1      0  47.0      1      0    7.0000             0           0         0   \n",
       "2      1  62.0      0      0    9.6875             0           0         1   \n",
       "3      1  27.0      0      0    8.6625             0           0         1   \n",
       "4      0  22.0      1      1   12.2875             0           0         0   \n",
       "..   ...   ...    ...    ...       ...           ...         ...       ...   \n",
       "413    1  26.0      0      0    8.0500             0           0         1   \n",
       "414    0  39.0      0      0  108.9000             0           0         0   \n",
       "415    1  38.5      0      0    7.2500             0           0         1   \n",
       "416    1  26.0      0      0    8.0500             0           0         1   \n",
       "417    1   4.0      1      1   22.3583             1           0         0   \n",
       "\n",
       "     Title_Mrs  Title_Officer  ...  Ticket_STONO2  Ticket_STONOQ  Ticket_SWPP  \\\n",
       "0            0              0  ...              0              0            0   \n",
       "1            1              0  ...              0              0            0   \n",
       "2            0              0  ...              0              0            0   \n",
       "3            0              0  ...              0              0            0   \n",
       "4            1              0  ...              0              0            0   \n",
       "..         ...            ...  ...            ...            ...          ...   \n",
       "413          0              0  ...              0              0            0   \n",
       "414          0              0  ...              0              0            0   \n",
       "415          0              0  ...              0              0            0   \n",
       "416          0              0  ...              0              0            0   \n",
       "417          0              0  ...              0              0            0   \n",
       "\n",
       "     Ticket_WC  Ticket_WEP  Ticket_XXX  FamilySize  Singleton  SmallFamily  \\\n",
       "0            0           0           1           1          1            0   \n",
       "1            0           0           1           2          0            1   \n",
       "2            0           0           1           1          1            0   \n",
       "3            0           0           1           1          1            0   \n",
       "4            0           0           1           3          0            1   \n",
       "..         ...         ...         ...         ...        ...          ...   \n",
       "413          0           0           0           1          1            0   \n",
       "414          0           0           0           1          1            0   \n",
       "415          0           0           0           1          1            0   \n",
       "416          0           0           1           1          1            0   \n",
       "417          0           0           1           3          0            1   \n",
       "\n",
       "     LargeFamily  \n",
       "0              0  \n",
       "1              0  \n",
       "2              0  \n",
       "3              0  \n",
       "4              0  \n",
       "..           ...  \n",
       "413            0  \n",
       "414            0  \n",
       "415            0  \n",
       "416            0  \n",
       "417            0  \n",
       "\n",
       "[418 rows x 67 columns]"
      ]
     },
     "execution_count": 11,
     "metadata": {},
     "output_type": "execute_result"
    }
   ],
   "source": [
    "test"
   ]
  },
  {
   "cell_type": "markdown",
   "metadata": {},
   "source": [
    "## Author - Feature selection\n",
    "\n",
    "We've come up to more than 30 features so far. This number is quite large.\n",
    "\n",
    "When feature engineering is done, we usually tend to decrease the dimensionality by selecting the \"right\" number of features that capture the essential.\n",
    "\n",
    "In fact, feature selection comes with many benefits:\n",
    "\n",
    "* It decreases redundancy among the data\n",
    "* It speeds up the training process\n",
    "* It reduces overfitting\n",
    "\n",
    "Tree-based estimators can be used to compute feature importances, which in turn can be used to discard irrelevant features."
   ]
  },
  {
   "cell_type": "code",
   "execution_count": 12,
   "metadata": {
    "ExecuteTime": {
     "end_time": "2020-08-19T12:55:17.943604Z",
     "start_time": "2020-08-19T12:55:17.765128Z"
    }
   },
   "outputs": [],
   "source": [
    "clf = RandomForestClassifier(n_estimators=100, max_features='sqrt')\n",
    "clf = clf.fit(train, targets)"
   ]
  },
  {
   "cell_type": "markdown",
   "metadata": {},
   "source": [
    "Let's have a look at the importance of each feature."
   ]
  },
  {
   "cell_type": "code",
   "execution_count": 13,
   "metadata": {
    "ExecuteTime": {
     "end_time": "2020-08-19T12:56:05.972833Z",
     "start_time": "2020-08-19T12:56:05.140477Z"
    }
   },
   "outputs": [
    {
     "data": {
      "image/png": "[encoded data removed]",
      "text/plain": [
       "<Figure size 1800x1800 with 1 Axes>"
      ]
     },
     "metadata": {
      "needs_background": "light"
     },
     "output_type": "display_data"
    }
   ],
   "source": [
    "features = pd.DataFrame()\n",
    "features['feature'] = train.columns\n",
    "features['importance'] = clf.feature_importances_\n",
    "features.sort_values(by=['importance'], ascending=True, inplace=True)\n",
    "features.set_index('feature', inplace=True)\n",
    "\n",
    "features.plot(kind='barh', figsize=(25, 25));"
   ]
  },
  {
   "cell_type": "markdown",
   "metadata": {},
   "source": [
    "As you may notice, there is a great importance linked to `Title_Mr`, `Age`, `Fare`, and `Sex`.\n",
    "\n",
    "There is also an important correlation with the `Passenger_Id`.\n",
    "\n",
    "Let's now transform our train set and test set in a more compact datasets."
   ]
  },
  {
   "cell_type": "code",
   "execution_count": 14,
   "metadata": {
    "ExecuteTime": {
     "end_time": "2020-08-19T12:56:51.021548Z",
     "start_time": "2020-08-19T12:56:50.988628Z"
    }
   },
   "outputs": [
    {
     "name": "stdout",
     "output_type": "stream",
     "text": [
      "(891, 13), (418, 13)\n"
     ]
    }
   ],
   "source": [
    "model = SelectFromModel(clf, prefit=True)\n",
    "train_reduced = model.transform(train)\n",
    "print(train_reduced.shape, end=\", \")\n",
    "\n",
    "test_reduced = model.transform(test)\n",
    "print(test_reduced.shape)"
   ]
  },
  {
   "cell_type": "markdown",
   "metadata": {},
   "source": [
    "## Author - First models"
   ]
  },
  {
   "cell_type": "code",
   "execution_count": 17,
   "metadata": {
    "ExecuteTime": {
     "end_time": "2020-08-19T13:00:56.918176Z",
     "start_time": "2020-08-19T13:00:56.902551Z"
    }
   },
   "outputs": [],
   "source": [
    "X_train, X_test, y_train, y_test = train_test_split(train_reduced, targets, test_size=0.15)"
   ]
  },
  {
   "cell_type": "code",
   "execution_count": 20,
   "metadata": {
    "ExecuteTime": {
     "end_time": "2020-08-19T13:01:46.146696Z",
     "start_time": "2020-08-19T13:01:37.766847Z"
    }
   },
   "outputs": [
    {
     "name": "stdout",
     "output_type": "stream",
     "text": [
      "Cross-validation of : <class 'sklearn.linear_model._logistic.LogisticRegression'>\n",
      "CV Train score = 0.8202279202279202\n",
      "CV Val score = 0.8150923666782852\n",
      "****\n",
      "Cross-validation of : <class 'sklearn.linear_model._logistic.LogisticRegressionCV'>\n",
      "CV Train score = 0.7980056980056979\n",
      "CV Val score = 0.8203903799233181\n",
      "****\n",
      "Cross-validation of : <class 'sklearn.ensemble._forest.RandomForestClassifier'>\n",
      "CV Train score = 0.7905982905982906\n",
      "CV Val score = 0.8123475078424539\n",
      "****\n",
      "Cross-validation of : <class 'sklearn.ensemble._gb.GradientBoostingClassifier'>\n",
      "CV Train score = 0.760968660968661\n",
      "CV Val score = 0.8256361101429069\n",
      "****\n"
     ]
    }
   ],
   "source": [
    "logreg = LogisticRegression()\n",
    "logreg_cv = LogisticRegressionCV()\n",
    "rf = RandomForestClassifier()\n",
    "gboost = GradientBoostingClassifier()\n",
    "\n",
    "models = [logreg, logreg_cv, rf, gboost]\n",
    "\n",
    "for model in models:\n",
    "    np.random.seed(42)\n",
    "    print('Cross-validation of : {0}'.format(model.__class__))\n",
    "    score = compute_score(clf=model, X=X_test, y=y_test, scoring='accuracy')\n",
    "    print('CV Train score = {0}'.format(score))\n",
    "    score = compute_score(clf=model, X=X_train, y=y_train, scoring='accuracy')\n",
    "    print('CV Val score = {0}'.format(score))\n",
    "    print('****')"
   ]
  },
  {
   "cell_type": "markdown",
   "metadata": {},
   "source": [
    "## Author - Hyperparameters tuning\n",
    "\n",
    "As mentioned in the beginning of the Modeling part, we will be using a Random Forest model. It may not be the best model for this task but we'll show how to tune. This work can be applied to different models.\n",
    "\n",
    "Random Forest are quite handy. They do however come with some parameters to tweak in order to get an optimal model for the prediction task.\n",
    "\n",
    "Additionally, we'll use the full train set."
   ]
  },
  {
   "cell_type": "code",
   "execution_count": 21,
   "metadata": {
    "ExecuteTime": {
     "end_time": "2020-08-19T13:05:47.583339Z",
     "start_time": "2020-08-19T13:05:47.517424Z"
    }
   },
   "outputs": [],
   "source": [
    "# turn run_gs to True if you want to run the gridsearch again.\n",
    "run_gs = False\n",
    "\n",
    "if run_gs:\n",
    "    parameter_grid = {\n",
    "                 'max_depth' : [4, 6, 8],\n",
    "                 'n_estimators': [50, 10],\n",
    "                 'max_features': ['sqrt', 'auto', 'log2'],\n",
    "                 'min_samples_split': [2, 3, 10],\n",
    "                 'min_samples_leaf': [1, 3, 10],\n",
    "                 'bootstrap': [True, False],\n",
    "                 }\n",
    "    forest = RandomForestClassifier()\n",
    "    cross_validation = StratifiedKFold(n_splits=5)\n",
    "\n",
    "    grid_search = GridSearchCV(forest,\n",
    "                               scoring='accuracy',\n",
    "                               param_grid=parameter_grid,\n",
    "                               cv=cross_validation,\n",
    "                               verbose=1\n",
    "                              )\n",
    "\n",
    "    grid_search.fit(train, targets)\n",
    "    model = grid_search\n",
    "    parameters = grid_search.best_params_\n",
    "\n",
    "    print('Best score: {}'.format(grid_search.best_score_))\n",
    "    print('Best parameters: {}'.format(grid_search.best_params_))\n",
    "    \n",
    "else: \n",
    "    parameters = {'bootstrap': False, 'min_samples_leaf': 3, 'n_estimators': 50, \n",
    "                  'min_samples_split': 10, 'max_features': 'sqrt', 'max_depth': 6}\n",
    "    \n",
    "    model = RandomForestClassifier(**parameters)\n",
    "    model.fit(train, targets)"
   ]
  },
  {
   "cell_type": "markdown",
   "metadata": {},
   "source": [
    "Now that the model is built by scanning several combinations of the hyperparameters, we can generate an output file to submit on Kaggle."
   ]
  },
  {
   "cell_type": "code",
   "execution_count": 22,
   "metadata": {
    "ExecuteTime": {
     "end_time": "2020-08-19T13:07:09.236939Z",
     "start_time": "2020-08-19T13:07:09.205018Z"
    }
   },
   "outputs": [],
   "source": [
    "output = model.predict(test).astype(int)\n",
    "df_output = pd.DataFrame()\n",
    "aux = pd.read_csv('./data/test.csv')\n",
    "df_output['PassengerId'] = aux['PassengerId']\n",
    "df_output['Survived'] = output\n",
    "df_output[['PassengerId','Survived']].to_csv('submission/author_rand_forest.csv', index=False)"
   ]
  },
  {
   "cell_type": "markdown",
   "metadata": {},
   "source": [
    "FINAL RESULT: 78,947% IS THE ACCURACY FOUND. "
   ]
  },
  {
   "cell_type": "markdown",
   "metadata": {},
   "source": [
    "\n",
    "\n",
    "# My experiments\n",
    "\n",
    "## Validation Dataset\n",
    "\n",
    "Now, using this more updated dataset, I'll try different ways to see if I can improve the result obtained in the website as I already did before. In particular, now I have:\n",
    "* `train`: Train dataset with 67 attributes due to the pandas dummies columns\n",
    "* `targets`: Train target (Survived or no?)\n",
    "* `test`: Test dataset with 67 attributes as Train without targets (they are on Kaggle)\n",
    "\n",
    "Now I use a Validation dataset of 25% through `train_test_split()` of Scikit-Learn, obtaining:\n",
    "* `X_train,y_train`: New restricted Train dataset and its targets\n",
    "* `X_test,y_test`: New Validation dataset with its targets"
   ]
  },
  {
   "cell_type": "code",
   "execution_count": 23,
   "metadata": {
    "ExecuteTime": {
     "end_time": "2020-08-19T13:11:21.833407Z",
     "start_time": "2020-08-19T13:11:21.817782Z"
    }
   },
   "outputs": [
    {
     "data": {
      "text/plain": [
       "((891, 67), (891,), (418, 67))"
      ]
     },
     "execution_count": 23,
     "metadata": {},
     "output_type": "execute_result"
    }
   ],
   "source": [
    "train.shape, targets.shape, test.shape"
   ]
  },
  {
   "cell_type": "code",
   "execution_count": 24,
   "metadata": {
    "ExecuteTime": {
     "end_time": "2020-08-19T13:11:40.210926Z",
     "start_time": "2020-08-19T13:11:40.203962Z"
    }
   },
   "outputs": [
    {
     "data": {
      "text/plain": [
       "((668, 67), (223, 67), (668,), (223,))"
      ]
     },
     "execution_count": 24,
     "metadata": {},
     "output_type": "execute_result"
    }
   ],
   "source": [
    "X_train, X_test, y_train, y_test = train_test_split(train, targets, test_size=0.25)\n",
    "X_train.shape, X_test.shape, y_train.shape, y_test.shape"
   ]
  },
  {
   "cell_type": "markdown",
   "metadata": {},
   "source": [
    "## Feature Selection"
   ]
  },
  {
   "cell_type": "code",
   "execution_count": 27,
   "metadata": {
    "ExecuteTime": {
     "end_time": "2020-08-19T13:15:25.191951Z",
     "start_time": "2020-08-19T13:15:25.021058Z"
    }
   },
   "outputs": [
    {
     "data": {
      "text/html": [
       "<div>\n",
       "<style scoped>\n",
       "    .dataframe tbody tr th:only-of-type {\n",
       "        vertical-align: middle;\n",
       "    }\n",
       "\n",
       "    .dataframe tbody tr th {\n",
       "        vertical-align: top;\n",
       "    }\n",
       "\n",
       "    .dataframe thead th {\n",
       "        text-align: right;\n",
       "    }\n",
       "</style>\n",
       "<table border=\"1\" class=\"dataframe\">\n",
       "  <thead>\n",
       "    <tr style=\"text-align: right;\">\n",
       "      <th></th>\n",
       "      <th>feature</th>\n",
       "      <th>importance</th>\n",
       "    </tr>\n",
       "  </thead>\n",
       "  <tbody>\n",
       "    <tr>\n",
       "      <th>1</th>\n",
       "      <td>Age</td>\n",
       "      <td>0.189336</td>\n",
       "    </tr>\n",
       "    <tr>\n",
       "      <th>4</th>\n",
       "      <td>Fare</td>\n",
       "      <td>0.176503</td>\n",
       "    </tr>\n",
       "    <tr>\n",
       "      <th>7</th>\n",
       "      <td>Title_Mr</td>\n",
       "      <td>0.121496</td>\n",
       "    </tr>\n",
       "    <tr>\n",
       "      <th>0</th>\n",
       "      <td>Sex</td>\n",
       "      <td>0.094584</td>\n",
       "    </tr>\n",
       "    <tr>\n",
       "      <th>6</th>\n",
       "      <td>Title_Miss</td>\n",
       "      <td>0.038726</td>\n",
       "    </tr>\n",
       "  </tbody>\n",
       "</table>\n",
       "</div>"
      ],
      "text/plain": [
       "      feature  importance\n",
       "1         Age    0.189336\n",
       "4        Fare    0.176503\n",
       "7    Title_Mr    0.121496\n",
       "0         Sex    0.094584\n",
       "6  Title_Miss    0.038726"
      ]
     },
     "execution_count": 27,
     "metadata": {},
     "output_type": "execute_result"
    }
   ],
   "source": [
    "clf = RandomForestClassifier(n_estimators=100, max_features='sqrt')\n",
    "clf = clf.fit(train, targets)\n",
    "features = pd.DataFrame()\n",
    "features['feature'] = train.columns\n",
    "features['importance'] = clf.feature_importances_\n",
    "features.sort_values(by=['importance'], ascending=False, inplace=True)\n",
    "features.head()"
   ]
  },
  {
   "cell_type": "markdown",
   "metadata": {},
   "source": [
    "As said before, 67 attributes are too many, they make the machine learning algorithm overfit, therefore we need to implement a new solution in order to make better predictions. "
   ]
  },
  {
   "cell_type": "code",
   "execution_count": 30,
   "metadata": {
    "ExecuteTime": {
     "end_time": "2020-08-19T13:16:48.737361Z",
     "start_time": "2020-08-19T13:16:48.732348Z"
    }
   },
   "outputs": [
    {
     "data": {
      "text/plain": [
       "0.8219064846349654"
      ]
     },
     "execution_count": 30,
     "metadata": {},
     "output_type": "execute_result"
    }
   ],
   "source": [
    "features.head(13).importance.sum()"
   ]
  },
  {
   "cell_type": "code",
   "execution_count": 31,
   "metadata": {
    "ExecuteTime": {
     "end_time": "2020-08-19T13:16:49.907831Z",
     "start_time": "2020-08-19T13:16:49.899865Z"
    }
   },
   "outputs": [
    {
     "data": {
      "text/plain": [
       "(0.18933554993582485, 0.9053686048732721, 0.9434450537135323)"
      ]
     },
     "execution_count": 31,
     "metadata": {},
     "output_type": "execute_result"
    }
   ],
   "source": [
    "features.head(1).importance.sum(), features.head(20).importance.sum(), features.head(25).importance.sum()"
   ]
  },
  {
   "cell_type": "markdown",
   "metadata": {},
   "source": [
    "We can see that:\n",
    "\n",
    "* `Age` and `Fare` together make the 36% of all Feature importance, in particular `Age` standalone make almost 20%;\n",
    "* The first 13/67 elements chosen in the previous case were 82% of all Feature importance;\n",
    "* 20/67 are 90%, 25/67 95%;\n",
    "\n",
    "In this case, we try 20, i.e. 90% of the feature importance. They are:"
   ]
  },
  {
   "cell_type": "code",
   "execution_count": 32,
   "metadata": {
    "ExecuteTime": {
     "end_time": "2020-08-19T13:18:08.034541Z",
     "start_time": "2020-08-19T13:18:08.028557Z"
    }
   },
   "outputs": [
    {
     "data": {
      "text/plain": [
       "['Age',\n",
       " 'Fare',\n",
       " 'Title_Mr',\n",
       " 'Sex',\n",
       " 'Title_Miss',\n",
       " 'Pclass_3',\n",
       " 'Title_Mrs',\n",
       " 'Cabin_U',\n",
       " 'FamilySize',\n",
       " 'SibSp',\n",
       " 'Parch',\n",
       " 'SmallFamily',\n",
       " 'LargeFamily',\n",
       " 'Pclass_1',\n",
       " 'Embarked_S',\n",
       " 'Ticket_XXX',\n",
       " 'Pclass_2',\n",
       " 'Embarked_C',\n",
       " 'Cabin_E',\n",
       " 'Singleton']"
      ]
     },
     "execution_count": 32,
     "metadata": {},
     "output_type": "execute_result"
    }
   ],
   "source": [
    "feature_list = list(features.head(20)[\"feature\"])\n",
    "feature_list"
   ]
  },
  {
   "cell_type": "code",
   "execution_count": 33,
   "metadata": {
    "ExecuteTime": {
     "end_time": "2020-08-19T13:18:38.946462Z",
     "start_time": "2020-08-19T13:18:38.941475Z"
    }
   },
   "outputs": [],
   "source": [
    "new_train = train[feature_list] \n",
    "new_test = test[feature_list]"
   ]
  },
  {
   "cell_type": "code",
   "execution_count": 34,
   "metadata": {
    "ExecuteTime": {
     "end_time": "2020-08-19T13:18:45.726255Z",
     "start_time": "2020-08-19T13:18:45.708304Z"
    }
   },
   "outputs": [
    {
     "data": {
      "text/html": [
       "<div>\n",
       "<style scoped>\n",
       "    .dataframe tbody tr th:only-of-type {\n",
       "        vertical-align: middle;\n",
       "    }\n",
       "\n",
       "    .dataframe tbody tr th {\n",
       "        vertical-align: top;\n",
       "    }\n",
       "\n",
       "    .dataframe thead th {\n",
       "        text-align: right;\n",
       "    }\n",
       "</style>\n",
       "<table border=\"1\" class=\"dataframe\">\n",
       "  <thead>\n",
       "    <tr style=\"text-align: right;\">\n",
       "      <th></th>\n",
       "      <th>Age</th>\n",
       "      <th>Fare</th>\n",
       "      <th>Title_Mr</th>\n",
       "      <th>Sex</th>\n",
       "      <th>Title_Miss</th>\n",
       "      <th>Pclass_3</th>\n",
       "      <th>Title_Mrs</th>\n",
       "      <th>Cabin_U</th>\n",
       "      <th>FamilySize</th>\n",
       "      <th>SibSp</th>\n",
       "      <th>Parch</th>\n",
       "      <th>SmallFamily</th>\n",
       "      <th>LargeFamily</th>\n",
       "      <th>Pclass_1</th>\n",
       "      <th>Embarked_S</th>\n",
       "      <th>Ticket_XXX</th>\n",
       "      <th>Pclass_2</th>\n",
       "      <th>Embarked_C</th>\n",
       "      <th>Cabin_E</th>\n",
       "      <th>Singleton</th>\n",
       "    </tr>\n",
       "  </thead>\n",
       "  <tbody>\n",
       "    <tr>\n",
       "      <th>0</th>\n",
       "      <td>22.0</td>\n",
       "      <td>7.2500</td>\n",
       "      <td>1</td>\n",
       "      <td>1</td>\n",
       "      <td>0</td>\n",
       "      <td>1</td>\n",
       "      <td>0</td>\n",
       "      <td>1</td>\n",
       "      <td>2</td>\n",
       "      <td>1</td>\n",
       "      <td>0</td>\n",
       "      <td>1</td>\n",
       "      <td>0</td>\n",
       "      <td>0</td>\n",
       "      <td>1</td>\n",
       "      <td>0</td>\n",
       "      <td>0</td>\n",
       "      <td>0</td>\n",
       "      <td>0</td>\n",
       "      <td>0</td>\n",
       "    </tr>\n",
       "    <tr>\n",
       "      <th>1</th>\n",
       "      <td>38.0</td>\n",
       "      <td>71.2833</td>\n",
       "      <td>0</td>\n",
       "      <td>0</td>\n",
       "      <td>0</td>\n",
       "      <td>0</td>\n",
       "      <td>1</td>\n",
       "      <td>0</td>\n",
       "      <td>2</td>\n",
       "      <td>1</td>\n",
       "      <td>0</td>\n",
       "      <td>1</td>\n",
       "      <td>0</td>\n",
       "      <td>1</td>\n",
       "      <td>0</td>\n",
       "      <td>0</td>\n",
       "      <td>0</td>\n",
       "      <td>1</td>\n",
       "      <td>0</td>\n",
       "      <td>0</td>\n",
       "    </tr>\n",
       "    <tr>\n",
       "      <th>2</th>\n",
       "      <td>26.0</td>\n",
       "      <td>7.9250</td>\n",
       "      <td>0</td>\n",
       "      <td>0</td>\n",
       "      <td>1</td>\n",
       "      <td>1</td>\n",
       "      <td>0</td>\n",
       "      <td>1</td>\n",
       "      <td>1</td>\n",
       "      <td>0</td>\n",
       "      <td>0</td>\n",
       "      <td>0</td>\n",
       "      <td>0</td>\n",
       "      <td>0</td>\n",
       "      <td>1</td>\n",
       "      <td>0</td>\n",
       "      <td>0</td>\n",
       "      <td>0</td>\n",
       "      <td>0</td>\n",
       "      <td>1</td>\n",
       "    </tr>\n",
       "    <tr>\n",
       "      <th>3</th>\n",
       "      <td>35.0</td>\n",
       "      <td>53.1000</td>\n",
       "      <td>0</td>\n",
       "      <td>0</td>\n",
       "      <td>0</td>\n",
       "      <td>0</td>\n",
       "      <td>1</td>\n",
       "      <td>0</td>\n",
       "      <td>2</td>\n",
       "      <td>1</td>\n",
       "      <td>0</td>\n",
       "      <td>1</td>\n",
       "      <td>0</td>\n",
       "      <td>1</td>\n",
       "      <td>1</td>\n",
       "      <td>1</td>\n",
       "      <td>0</td>\n",
       "      <td>0</td>\n",
       "      <td>0</td>\n",
       "      <td>0</td>\n",
       "    </tr>\n",
       "    <tr>\n",
       "      <th>4</th>\n",
       "      <td>35.0</td>\n",
       "      <td>8.0500</td>\n",
       "      <td>1</td>\n",
       "      <td>1</td>\n",
       "      <td>0</td>\n",
       "      <td>1</td>\n",
       "      <td>0</td>\n",
       "      <td>1</td>\n",
       "      <td>1</td>\n",
       "      <td>0</td>\n",
       "      <td>0</td>\n",
       "      <td>0</td>\n",
       "      <td>0</td>\n",
       "      <td>0</td>\n",
       "      <td>1</td>\n",
       "      <td>1</td>\n",
       "      <td>0</td>\n",
       "      <td>0</td>\n",
       "      <td>0</td>\n",
       "      <td>1</td>\n",
       "    </tr>\n",
       "    <tr>\n",
       "      <th>...</th>\n",
       "      <td>...</td>\n",
       "      <td>...</td>\n",
       "      <td>...</td>\n",
       "      <td>...</td>\n",
       "      <td>...</td>\n",
       "      <td>...</td>\n",
       "      <td>...</td>\n",
       "      <td>...</td>\n",
       "      <td>...</td>\n",
       "      <td>...</td>\n",
       "      <td>...</td>\n",
       "      <td>...</td>\n",
       "      <td>...</td>\n",
       "      <td>...</td>\n",
       "      <td>...</td>\n",
       "      <td>...</td>\n",
       "      <td>...</td>\n",
       "      <td>...</td>\n",
       "      <td>...</td>\n",
       "      <td>...</td>\n",
       "    </tr>\n",
       "    <tr>\n",
       "      <th>886</th>\n",
       "      <td>27.0</td>\n",
       "      <td>13.0000</td>\n",
       "      <td>0</td>\n",
       "      <td>1</td>\n",
       "      <td>0</td>\n",
       "      <td>0</td>\n",
       "      <td>0</td>\n",
       "      <td>1</td>\n",
       "      <td>1</td>\n",
       "      <td>0</td>\n",
       "      <td>0</td>\n",
       "      <td>0</td>\n",
       "      <td>0</td>\n",
       "      <td>0</td>\n",
       "      <td>1</td>\n",
       "      <td>1</td>\n",
       "      <td>1</td>\n",
       "      <td>0</td>\n",
       "      <td>0</td>\n",
       "      <td>1</td>\n",
       "    </tr>\n",
       "    <tr>\n",
       "      <th>887</th>\n",
       "      <td>19.0</td>\n",
       "      <td>30.0000</td>\n",
       "      <td>0</td>\n",
       "      <td>0</td>\n",
       "      <td>1</td>\n",
       "      <td>0</td>\n",
       "      <td>0</td>\n",
       "      <td>0</td>\n",
       "      <td>1</td>\n",
       "      <td>0</td>\n",
       "      <td>0</td>\n",
       "      <td>0</td>\n",
       "      <td>0</td>\n",
       "      <td>1</td>\n",
       "      <td>1</td>\n",
       "      <td>1</td>\n",
       "      <td>0</td>\n",
       "      <td>0</td>\n",
       "      <td>0</td>\n",
       "      <td>1</td>\n",
       "    </tr>\n",
       "    <tr>\n",
       "      <th>888</th>\n",
       "      <td>18.0</td>\n",
       "      <td>23.4500</td>\n",
       "      <td>0</td>\n",
       "      <td>0</td>\n",
       "      <td>1</td>\n",
       "      <td>1</td>\n",
       "      <td>0</td>\n",
       "      <td>1</td>\n",
       "      <td>4</td>\n",
       "      <td>1</td>\n",
       "      <td>2</td>\n",
       "      <td>1</td>\n",
       "      <td>0</td>\n",
       "      <td>0</td>\n",
       "      <td>1</td>\n",
       "      <td>0</td>\n",
       "      <td>0</td>\n",
       "      <td>0</td>\n",
       "      <td>0</td>\n",
       "      <td>0</td>\n",
       "    </tr>\n",
       "    <tr>\n",
       "      <th>889</th>\n",
       "      <td>26.0</td>\n",
       "      <td>30.0000</td>\n",
       "      <td>1</td>\n",
       "      <td>1</td>\n",
       "      <td>0</td>\n",
       "      <td>0</td>\n",
       "      <td>0</td>\n",
       "      <td>0</td>\n",
       "      <td>1</td>\n",
       "      <td>0</td>\n",
       "      <td>0</td>\n",
       "      <td>0</td>\n",
       "      <td>0</td>\n",
       "      <td>1</td>\n",
       "      <td>0</td>\n",
       "      <td>1</td>\n",
       "      <td>0</td>\n",
       "      <td>1</td>\n",
       "      <td>0</td>\n",
       "      <td>1</td>\n",
       "    </tr>\n",
       "    <tr>\n",
       "      <th>890</th>\n",
       "      <td>32.0</td>\n",
       "      <td>7.7500</td>\n",
       "      <td>1</td>\n",
       "      <td>1</td>\n",
       "      <td>0</td>\n",
       "      <td>1</td>\n",
       "      <td>0</td>\n",
       "      <td>1</td>\n",
       "      <td>1</td>\n",
       "      <td>0</td>\n",
       "      <td>0</td>\n",
       "      <td>0</td>\n",
       "      <td>0</td>\n",
       "      <td>0</td>\n",
       "      <td>0</td>\n",
       "      <td>1</td>\n",
       "      <td>0</td>\n",
       "      <td>0</td>\n",
       "      <td>0</td>\n",
       "      <td>1</td>\n",
       "    </tr>\n",
       "  </tbody>\n",
       "</table>\n",
       "<p>891 rows × 20 columns</p>\n",
       "</div>"
      ],
      "text/plain": [
       "      Age     Fare  Title_Mr  Sex  Title_Miss  Pclass_3  Title_Mrs  Cabin_U  \\\n",
       "0    22.0   7.2500         1    1           0         1          0        1   \n",
       "1    38.0  71.2833         0    0           0         0          1        0   \n",
       "2    26.0   7.9250         0    0           1         1          0        1   \n",
       "3    35.0  53.1000         0    0           0         0          1        0   \n",
       "4    35.0   8.0500         1    1           0         1          0        1   \n",
       "..    ...      ...       ...  ...         ...       ...        ...      ...   \n",
       "886  27.0  13.0000         0    1           0         0          0        1   \n",
       "887  19.0  30.0000         0    0           1         0          0        0   \n",
       "888  18.0  23.4500         0    0           1         1          0        1   \n",
       "889  26.0  30.0000         1    1           0         0          0        0   \n",
       "890  32.0   7.7500         1    1           0         1          0        1   \n",
       "\n",
       "     FamilySize  SibSp  Parch  SmallFamily  LargeFamily  Pclass_1  Embarked_S  \\\n",
       "0             2      1      0            1            0         0           1   \n",
       "1             2      1      0            1            0         1           0   \n",
       "2             1      0      0            0            0         0           1   \n",
       "3             2      1      0            1            0         1           1   \n",
       "4             1      0      0            0            0         0           1   \n",
       "..          ...    ...    ...          ...          ...       ...         ...   \n",
       "886           1      0      0            0            0         0           1   \n",
       "887           1      0      0            0            0         1           1   \n",
       "888           4      1      2            1            0         0           1   \n",
       "889           1      0      0            0            0         1           0   \n",
       "890           1      0      0            0            0         0           0   \n",
       "\n",
       "     Ticket_XXX  Pclass_2  Embarked_C  Cabin_E  Singleton  \n",
       "0             0         0           0        0          0  \n",
       "1             0         0           1        0          0  \n",
       "2             0         0           0        0          1  \n",
       "3             1         0           0        0          0  \n",
       "4             1         0           0        0          1  \n",
       "..          ...       ...         ...      ...        ...  \n",
       "886           1         1           0        0          1  \n",
       "887           1         0           0        0          1  \n",
       "888           0         0           0        0          0  \n",
       "889           1         0           1        0          1  \n",
       "890           1         0           0        0          1  \n",
       "\n",
       "[891 rows x 20 columns]"
      ]
     },
     "execution_count": 34,
     "metadata": {},
     "output_type": "execute_result"
    }
   ],
   "source": [
    "new_train"
   ]
  },
  {
   "cell_type": "code",
   "execution_count": 35,
   "metadata": {
    "ExecuteTime": {
     "end_time": "2020-08-19T13:19:00.727018Z",
     "start_time": "2020-08-19T13:19:00.708041Z"
    }
   },
   "outputs": [
    {
     "data": {
      "text/html": [
       "<div>\n",
       "<style scoped>\n",
       "    .dataframe tbody tr th:only-of-type {\n",
       "        vertical-align: middle;\n",
       "    }\n",
       "\n",
       "    .dataframe tbody tr th {\n",
       "        vertical-align: top;\n",
       "    }\n",
       "\n",
       "    .dataframe thead th {\n",
       "        text-align: right;\n",
       "    }\n",
       "</style>\n",
       "<table border=\"1\" class=\"dataframe\">\n",
       "  <thead>\n",
       "    <tr style=\"text-align: right;\">\n",
       "      <th></th>\n",
       "      <th>Age</th>\n",
       "      <th>Fare</th>\n",
       "      <th>Title_Mr</th>\n",
       "      <th>Sex</th>\n",
       "      <th>Title_Miss</th>\n",
       "      <th>Pclass_3</th>\n",
       "      <th>Title_Mrs</th>\n",
       "      <th>Cabin_U</th>\n",
       "      <th>FamilySize</th>\n",
       "      <th>SibSp</th>\n",
       "      <th>Parch</th>\n",
       "      <th>SmallFamily</th>\n",
       "      <th>LargeFamily</th>\n",
       "      <th>Pclass_1</th>\n",
       "      <th>Embarked_S</th>\n",
       "      <th>Ticket_XXX</th>\n",
       "      <th>Pclass_2</th>\n",
       "      <th>Embarked_C</th>\n",
       "      <th>Cabin_E</th>\n",
       "      <th>Singleton</th>\n",
       "    </tr>\n",
       "  </thead>\n",
       "  <tbody>\n",
       "    <tr>\n",
       "      <th>0</th>\n",
       "      <td>34.5</td>\n",
       "      <td>7.8292</td>\n",
       "      <td>1</td>\n",
       "      <td>1</td>\n",
       "      <td>0</td>\n",
       "      <td>1</td>\n",
       "      <td>0</td>\n",
       "      <td>1</td>\n",
       "      <td>1</td>\n",
       "      <td>0</td>\n",
       "      <td>0</td>\n",
       "      <td>0</td>\n",
       "      <td>0</td>\n",
       "      <td>0</td>\n",
       "      <td>0</td>\n",
       "      <td>1</td>\n",
       "      <td>0</td>\n",
       "      <td>0</td>\n",
       "      <td>0</td>\n",
       "      <td>1</td>\n",
       "    </tr>\n",
       "    <tr>\n",
       "      <th>1</th>\n",
       "      <td>47.0</td>\n",
       "      <td>7.0000</td>\n",
       "      <td>0</td>\n",
       "      <td>0</td>\n",
       "      <td>0</td>\n",
       "      <td>1</td>\n",
       "      <td>1</td>\n",
       "      <td>1</td>\n",
       "      <td>2</td>\n",
       "      <td>1</td>\n",
       "      <td>0</td>\n",
       "      <td>1</td>\n",
       "      <td>0</td>\n",
       "      <td>0</td>\n",
       "      <td>1</td>\n",
       "      <td>1</td>\n",
       "      <td>0</td>\n",
       "      <td>0</td>\n",
       "      <td>0</td>\n",
       "      <td>0</td>\n",
       "    </tr>\n",
       "    <tr>\n",
       "      <th>2</th>\n",
       "      <td>62.0</td>\n",
       "      <td>9.6875</td>\n",
       "      <td>1</td>\n",
       "      <td>1</td>\n",
       "      <td>0</td>\n",
       "      <td>0</td>\n",
       "      <td>0</td>\n",
       "      <td>1</td>\n",
       "      <td>1</td>\n",
       "      <td>0</td>\n",
       "      <td>0</td>\n",
       "      <td>0</td>\n",
       "      <td>0</td>\n",
       "      <td>0</td>\n",
       "      <td>0</td>\n",
       "      <td>1</td>\n",
       "      <td>1</td>\n",
       "      <td>0</td>\n",
       "      <td>0</td>\n",
       "      <td>1</td>\n",
       "    </tr>\n",
       "    <tr>\n",
       "      <th>3</th>\n",
       "      <td>27.0</td>\n",
       "      <td>8.6625</td>\n",
       "      <td>1</td>\n",
       "      <td>1</td>\n",
       "      <td>0</td>\n",
       "      <td>1</td>\n",
       "      <td>0</td>\n",
       "      <td>1</td>\n",
       "      <td>1</td>\n",
       "      <td>0</td>\n",
       "      <td>0</td>\n",
       "      <td>0</td>\n",
       "      <td>0</td>\n",
       "      <td>0</td>\n",
       "      <td>1</td>\n",
       "      <td>1</td>\n",
       "      <td>0</td>\n",
       "      <td>0</td>\n",
       "      <td>0</td>\n",
       "      <td>1</td>\n",
       "    </tr>\n",
       "    <tr>\n",
       "      <th>4</th>\n",
       "      <td>22.0</td>\n",
       "      <td>12.2875</td>\n",
       "      <td>0</td>\n",
       "      <td>0</td>\n",
       "      <td>0</td>\n",
       "      <td>1</td>\n",
       "      <td>1</td>\n",
       "      <td>1</td>\n",
       "      <td>3</td>\n",
       "      <td>1</td>\n",
       "      <td>1</td>\n",
       "      <td>1</td>\n",
       "      <td>0</td>\n",
       "      <td>0</td>\n",
       "      <td>1</td>\n",
       "      <td>1</td>\n",
       "      <td>0</td>\n",
       "      <td>0</td>\n",
       "      <td>0</td>\n",
       "      <td>0</td>\n",
       "    </tr>\n",
       "    <tr>\n",
       "      <th>...</th>\n",
       "      <td>...</td>\n",
       "      <td>...</td>\n",
       "      <td>...</td>\n",
       "      <td>...</td>\n",
       "      <td>...</td>\n",
       "      <td>...</td>\n",
       "      <td>...</td>\n",
       "      <td>...</td>\n",
       "      <td>...</td>\n",
       "      <td>...</td>\n",
       "      <td>...</td>\n",
       "      <td>...</td>\n",
       "      <td>...</td>\n",
       "      <td>...</td>\n",
       "      <td>...</td>\n",
       "      <td>...</td>\n",
       "      <td>...</td>\n",
       "      <td>...</td>\n",
       "      <td>...</td>\n",
       "      <td>...</td>\n",
       "    </tr>\n",
       "    <tr>\n",
       "      <th>413</th>\n",
       "      <td>26.0</td>\n",
       "      <td>8.0500</td>\n",
       "      <td>1</td>\n",
       "      <td>1</td>\n",
       "      <td>0</td>\n",
       "      <td>1</td>\n",
       "      <td>0</td>\n",
       "      <td>1</td>\n",
       "      <td>1</td>\n",
       "      <td>0</td>\n",
       "      <td>0</td>\n",
       "      <td>0</td>\n",
       "      <td>0</td>\n",
       "      <td>0</td>\n",
       "      <td>1</td>\n",
       "      <td>0</td>\n",
       "      <td>0</td>\n",
       "      <td>0</td>\n",
       "      <td>0</td>\n",
       "      <td>1</td>\n",
       "    </tr>\n",
       "    <tr>\n",
       "      <th>414</th>\n",
       "      <td>39.0</td>\n",
       "      <td>108.9000</td>\n",
       "      <td>0</td>\n",
       "      <td>0</td>\n",
       "      <td>0</td>\n",
       "      <td>0</td>\n",
       "      <td>0</td>\n",
       "      <td>0</td>\n",
       "      <td>1</td>\n",
       "      <td>0</td>\n",
       "      <td>0</td>\n",
       "      <td>0</td>\n",
       "      <td>0</td>\n",
       "      <td>1</td>\n",
       "      <td>0</td>\n",
       "      <td>0</td>\n",
       "      <td>0</td>\n",
       "      <td>1</td>\n",
       "      <td>0</td>\n",
       "      <td>1</td>\n",
       "    </tr>\n",
       "    <tr>\n",
       "      <th>415</th>\n",
       "      <td>38.5</td>\n",
       "      <td>7.2500</td>\n",
       "      <td>1</td>\n",
       "      <td>1</td>\n",
       "      <td>0</td>\n",
       "      <td>1</td>\n",
       "      <td>0</td>\n",
       "      <td>1</td>\n",
       "      <td>1</td>\n",
       "      <td>0</td>\n",
       "      <td>0</td>\n",
       "      <td>0</td>\n",
       "      <td>0</td>\n",
       "      <td>0</td>\n",
       "      <td>1</td>\n",
       "      <td>0</td>\n",
       "      <td>0</td>\n",
       "      <td>0</td>\n",
       "      <td>0</td>\n",
       "      <td>1</td>\n",
       "    </tr>\n",
       "    <tr>\n",
       "      <th>416</th>\n",
       "      <td>26.0</td>\n",
       "      <td>8.0500</td>\n",
       "      <td>1</td>\n",
       "      <td>1</td>\n",
       "      <td>0</td>\n",
       "      <td>1</td>\n",
       "      <td>0</td>\n",
       "      <td>1</td>\n",
       "      <td>1</td>\n",
       "      <td>0</td>\n",
       "      <td>0</td>\n",
       "      <td>0</td>\n",
       "      <td>0</td>\n",
       "      <td>0</td>\n",
       "      <td>1</td>\n",
       "      <td>1</td>\n",
       "      <td>0</td>\n",
       "      <td>0</td>\n",
       "      <td>0</td>\n",
       "      <td>1</td>\n",
       "    </tr>\n",
       "    <tr>\n",
       "      <th>417</th>\n",
       "      <td>4.0</td>\n",
       "      <td>22.3583</td>\n",
       "      <td>0</td>\n",
       "      <td>1</td>\n",
       "      <td>0</td>\n",
       "      <td>1</td>\n",
       "      <td>0</td>\n",
       "      <td>1</td>\n",
       "      <td>3</td>\n",
       "      <td>1</td>\n",
       "      <td>1</td>\n",
       "      <td>1</td>\n",
       "      <td>0</td>\n",
       "      <td>0</td>\n",
       "      <td>0</td>\n",
       "      <td>1</td>\n",
       "      <td>0</td>\n",
       "      <td>1</td>\n",
       "      <td>0</td>\n",
       "      <td>0</td>\n",
       "    </tr>\n",
       "  </tbody>\n",
       "</table>\n",
       "<p>418 rows × 20 columns</p>\n",
       "</div>"
      ],
      "text/plain": [
       "      Age      Fare  Title_Mr  Sex  Title_Miss  Pclass_3  Title_Mrs  Cabin_U  \\\n",
       "0    34.5    7.8292         1    1           0         1          0        1   \n",
       "1    47.0    7.0000         0    0           0         1          1        1   \n",
       "2    62.0    9.6875         1    1           0         0          0        1   \n",
       "3    27.0    8.6625         1    1           0         1          0        1   \n",
       "4    22.0   12.2875         0    0           0         1          1        1   \n",
       "..    ...       ...       ...  ...         ...       ...        ...      ...   \n",
       "413  26.0    8.0500         1    1           0         1          0        1   \n",
       "414  39.0  108.9000         0    0           0         0          0        0   \n",
       "415  38.5    7.2500         1    1           0         1          0        1   \n",
       "416  26.0    8.0500         1    1           0         1          0        1   \n",
       "417   4.0   22.3583         0    1           0         1          0        1   \n",
       "\n",
       "     FamilySize  SibSp  Parch  SmallFamily  LargeFamily  Pclass_1  Embarked_S  \\\n",
       "0             1      0      0            0            0         0           0   \n",
       "1             2      1      0            1            0         0           1   \n",
       "2             1      0      0            0            0         0           0   \n",
       "3             1      0      0            0            0         0           1   \n",
       "4             3      1      1            1            0         0           1   \n",
       "..          ...    ...    ...          ...          ...       ...         ...   \n",
       "413           1      0      0            0            0         0           1   \n",
       "414           1      0      0            0            0         1           0   \n",
       "415           1      0      0            0            0         0           1   \n",
       "416           1      0      0            0            0         0           1   \n",
       "417           3      1      1            1            0         0           0   \n",
       "\n",
       "     Ticket_XXX  Pclass_2  Embarked_C  Cabin_E  Singleton  \n",
       "0             1         0           0        0          1  \n",
       "1             1         0           0        0          0  \n",
       "2             1         1           0        0          1  \n",
       "3             1         0           0        0          1  \n",
       "4             1         0           0        0          0  \n",
       "..          ...       ...         ...      ...        ...  \n",
       "413           0         0           0        0          1  \n",
       "414           0         0           1        0          1  \n",
       "415           0         0           0        0          1  \n",
       "416           1         0           0        0          1  \n",
       "417           1         0           1        0          0  \n",
       "\n",
       "[418 rows x 20 columns]"
      ]
     },
     "execution_count": 35,
     "metadata": {},
     "output_type": "execute_result"
    }
   ],
   "source": [
    "new_test.reindex(np.linspace(0,418,1))\n",
    "new_test.index = pd.RangeIndex(start=0, stop=418, step=1)\n",
    "new_test"
   ]
  },
  {
   "cell_type": "code",
   "execution_count": 36,
   "metadata": {
    "ExecuteTime": {
     "end_time": "2020-08-19T13:19:32.826391Z",
     "start_time": "2020-08-19T13:19:32.820425Z"
    }
   },
   "outputs": [],
   "source": [
    "np.random.seed(42)\n",
    "X_train, X_test, y_train, y_test = train_test_split(new_train, targets, test_size=0.15)"
   ]
  },
  {
   "cell_type": "markdown",
   "metadata": {},
   "source": [
    "## First Try with different methods\n",
    "\n",
    "Now I'll try different approaches to this method, in order to have a baseline idea and work on that. The methods are:\n",
    "* `LogisticRegression()`\n",
    "* `LogisticRegressionCV()`\n",
    "* `RandomForestClassifier()`\n",
    "* `GradientBoostingClassifier()`\n",
    "\n",
    "We'll build a baseline of our models."
   ]
  },
  {
   "cell_type": "code",
   "execution_count": 37,
   "metadata": {
    "ExecuteTime": {
     "end_time": "2020-08-19T13:21:13.508799Z",
     "start_time": "2020-08-19T13:21:02.220280Z"
    }
   },
   "outputs": [
    {
     "name": "stdout",
     "output_type": "stream",
     "text": [
      "Cross-validation of : <class 'sklearn.linear_model._logistic.LogisticRegression'>\n",
      "CV Train score = 0.8243028929940746\n",
      "CV Validation score = 0.8578347578347578\n",
      "****\n",
      "Cross-validation of : <class 'sklearn.linear_model._logistic.LogisticRegressionCV'>\n",
      "CV Train score = 0.8229958173579645\n",
      "CV Validation score = 0.8282051282051281\n",
      "****\n",
      "Cross-validation of : <class 'sklearn.ensemble._forest.RandomForestClassifier'>\n",
      "CV Train score = 0.7979348204949459\n",
      "CV Validation score = 0.8282051282051283\n",
      "****\n",
      "Cross-validation of : <class 'sklearn.ensemble._gb.GradientBoostingClassifier'>\n",
      "CV Train score = 0.8177239456256536\n",
      "CV Validation score = 0.8287749287749289\n",
      "****\n"
     ]
    }
   ],
   "source": [
    "logreg = LogisticRegression()\n",
    "logreg_cv = LogisticRegressionCV()\n",
    "rf = RandomForestClassifier()\n",
    "gboost = GradientBoostingClassifier()\n",
    "\n",
    "models = [logreg, logreg_cv, rf, gboost]\n",
    "\n",
    "for model in models:\n",
    "    np.random.seed(42) # I need the same starting point\n",
    "    print('Cross-validation of : {0}'.format(model.__class__))\n",
    "    model.fit(X_train, y_train)\n",
    "    score = compute_score(clf=model, X=X_train, y=y_train, scoring='accuracy')\n",
    "    print('CV Train score = {0}'.format(score))\n",
    "    score = compute_score(clf=model, X=X_test, y=y_test, scoring='accuracy')\n",
    "    print('CV Validation score = {0}'.format(score))\n",
    "    print('****')"
   ]
  },
  {
   "cell_type": "markdown",
   "metadata": {},
   "source": [
    "As baseline result we can see that `RandomForestClassifier()` is the best at the first attempt with the new dataset, as before, even though the results obtained are slightly different than before. We'll now dive a little into the problem.\n",
    "\n",
    "## RandomizedSearchCV\n",
    "\n",
    "We'll now do a selection of the various method we proposed. Surfing the Net, we found the meaning of the main hyperparameters. In this section we try some combinations in order to understand better on which model we need to focus our attentions. We now define different grid of hyperparameters for each algorithm that later we'll apply."
   ]
  },
  {
   "cell_type": "code",
   "execution_count": 92,
   "metadata": {
    "ExecuteTime": {
     "end_time": "2020-08-19T15:44:00.220739Z",
     "start_time": "2020-08-19T15:44:00.214783Z"
    }
   },
   "outputs": [],
   "source": [
    "def rand_grid_search(model_funct, grid, name=\"Model\", crossval=5, randomiz=True, n_iterat=1000, rand_seed=42, scoring_choose='accuracy', verb=True):\n",
    "    \"\"\"\n",
    "    Function that tries a model and finds its hyperparameters.\n",
    "    \"\"\"\n",
    "    np.random.seed(rand_seed) \n",
    "    if randomiz:\n",
    "        model = RandomizedSearchCV(model_funct, \n",
    "                                   param_distributions=grid,\n",
    "                                   scoring=scoring_choose,\n",
    "                                   n_iter=n_iterat,\n",
    "                                   cv=crossval,\n",
    "                                   verbose=verb, \n",
    "                                   n_jobs=-1)\n",
    "        print(name + \" found with RandomizedSearchCV\")\n",
    "    else:\n",
    "        model = GridSearchCV(model_funct, \n",
    "                             param_grid=grid,\n",
    "                             scoring=scoring_choose,\n",
    "                             cv=crossval,\n",
    "                             verbose=verb, \n",
    "                             n_jobs=-1)\n",
    "        print(name + \" found with GridSearchCV\")\n",
    "    \n",
    "    return model "
   ]
  },
  {
   "cell_type": "markdown",
   "metadata": {},
   "source": [
    "### Logistic Regression "
   ]
  },
  {
   "cell_type": "code",
   "execution_count": 63,
   "metadata": {
    "ExecuteTime": {
     "end_time": "2020-08-19T14:19:00.069185Z",
     "start_time": "2020-08-19T14:18:04.075925Z"
    },
    "scrolled": true
   },
   "outputs": [
    {
     "name": "stdout",
     "output_type": "stream",
     "text": [
      "Logistic Regression found with RandomizedSearchCV\n",
      "Fitting 5 folds for each of 10000 candidates, totalling 50000 fits\n"
     ]
    },
    {
     "name": "stderr",
     "output_type": "stream",
     "text": [
      "[Parallel(n_jobs=-1)]: Using backend LokyBackend with 8 concurrent workers.\n",
      "[Parallel(n_jobs=-1)]: Done  58 tasks      | elapsed:    0.1s\n",
      "[Parallel(n_jobs=-1)]: Done 6640 tasks      | elapsed:    8.2s\n",
      "[Parallel(n_jobs=-1)]: Done 22640 tasks      | elapsed:   27.0s\n",
      "[Parallel(n_jobs=-1)]: Done 45040 tasks      | elapsed:   50.4s\n"
     ]
    },
    {
     "name": "stdout",
     "output_type": "stream",
     "text": [
      "*************************\n",
      "0.8052434456928839\n",
      "0.7586206896551724\n"
     ]
    },
    {
     "name": "stderr",
     "output_type": "stream",
     "text": [
      "[Parallel(n_jobs=-1)]: Done 50000 out of 50000 | elapsed:   55.5s finished\n"
     ]
    }
   ],
   "source": [
    "# Create an hyperparameter grid for Logistic Regression\n",
    "log_reg_grid = {\"C\":np.logspace(-10, 10, 1000), \n",
    "                \"dual\":[True, False],\n",
    "                \"fit_intercept\":[True, False],\n",
    "                \"penalty\" : ['l1', 'l2', 'elasticnet'],\n",
    "                \"solver\": ['newton-cg', 'lbfgs', 'liblinear', 'sag', 'saga']}\n",
    "\n",
    "log_reg_rancv = rand_grid_search(LogisticRegression(), \n",
    "                                 log_reg_grid, \n",
    "                                 name=\"Logistic Regression\", \n",
    "                                 n_iterat=10000)\n",
    "\n",
    "log_reg_rancv.fit(X_train, y_train)\n",
    "print('*************************')\n",
    "np.random.seed(42)\n",
    "print(precision_score(y_train, log_reg_rancv.predict(X_train)))\n",
    "print(precision_score(y_test, log_reg_rancv.predict(X_test)))"
   ]
  },
  {
   "cell_type": "code",
   "execution_count": 76,
   "metadata": {
    "ExecuteTime": {
     "end_time": "2020-08-19T15:34:31.259476Z",
     "start_time": "2020-08-19T15:34:31.222587Z"
    }
   },
   "outputs": [],
   "source": [
    "pickle.dump(log_reg_rancv, open(\"model/new_version/logistic_randomizedsearch.pkl\", \"wb\"))"
   ]
  },
  {
   "cell_type": "code",
   "execution_count": 77,
   "metadata": {
    "ExecuteTime": {
     "end_time": "2020-08-19T15:35:03.743176Z",
     "start_time": "2020-08-19T15:35:03.718227Z"
    }
   },
   "outputs": [],
   "source": [
    "log_reg_rancv = pickle.load(open(\"model/new_version/logistic_randomizedsearch.pkl\", \"rb\"))"
   ]
  },
  {
   "cell_type": "code",
   "execution_count": 78,
   "metadata": {
    "ExecuteTime": {
     "end_time": "2020-08-19T15:35:08.177968Z",
     "start_time": "2020-08-19T15:35:08.173958Z"
    }
   },
   "outputs": [
    {
     "data": {
      "text/plain": [
       "{'solver': 'lbfgs',\n",
       " 'penalty': 'l2',\n",
       " 'fit_intercept': False,\n",
       " 'dual': False,\n",
       " 'C': 1358.7299019027118}"
      ]
     },
     "execution_count": 78,
     "metadata": {},
     "output_type": "execute_result"
    }
   ],
   "source": [
    "log_reg_rancv.best_params_"
   ]
  },
  {
   "cell_type": "markdown",
   "metadata": {},
   "source": [
    "### Logistic Regression CV"
   ]
  },
  {
   "cell_type": "code",
   "execution_count": 64,
   "metadata": {
    "ExecuteTime": {
     "end_time": "2020-08-19T14:23:04.287401Z",
     "start_time": "2020-08-19T14:22:34.427937Z"
    }
   },
   "outputs": [
    {
     "name": "stdout",
     "output_type": "stream",
     "text": [
      "Logistic Regression CV found with RandomizedSearchCV\n",
      "Fitting 5 folds for each of 360 candidates, totalling 1800 fits\n"
     ]
    },
    {
     "name": "stderr",
     "output_type": "stream",
     "text": [
      "[Parallel(n_jobs=-1)]: Using backend LokyBackend with 8 concurrent workers.\n",
      "[Parallel(n_jobs=-1)]: Done  60 tasks      | elapsed:    0.0s\n",
      "[Parallel(n_jobs=-1)]: Done 1368 tasks      | elapsed:   14.7s\n",
      "[Parallel(n_jobs=-1)]: Done 1800 out of 1800 | elapsed:   29.3s finished\n"
     ]
    },
    {
     "name": "stdout",
     "output_type": "stream",
     "text": [
      "*************************\n",
      "0.7977941176470589\n",
      "0.75\n"
     ]
    }
   ],
   "source": [
    "# Create an hyperparameter grid for Logistic Regression CV \n",
    "log_reg_CV_grid = {\"Cs\":[1, 3, 5, 7, 10, 12], \n",
    "                   \"fit_intercept\":[True, False],\n",
    "                   \"dual\":[True, False],\n",
    "                   \"penalty\" : ['l1', 'l2', 'elasticnet'],\n",
    "                   \"solver\": ['newton-cg', 'lbfgs', 'liblinear', 'sag', 'saga']}\n",
    "\n",
    "log_reg_CV_rancv = rand_grid_search(LogisticRegressionCV(), \n",
    "                                    log_reg_CV_grid, \n",
    "                                    name=\"Logistic Regression CV\", \n",
    "                                    n_iterat=5000)\n",
    "\n",
    "log_reg_CV_rancv.fit(X_train, y_train)\n",
    "print('*************************')\n",
    "np.random.seed(42)\n",
    "print(precision_score(y_train, log_reg_CV_rancv.predict(X_train)))\n",
    "print(precision_score(y_test, log_reg_CV_rancv.predict(X_test)))"
   ]
  },
  {
   "cell_type": "code",
   "execution_count": 79,
   "metadata": {
    "ExecuteTime": {
     "end_time": "2020-08-19T15:35:34.363748Z",
     "start_time": "2020-08-19T15:35:34.358737Z"
    }
   },
   "outputs": [],
   "source": [
    "pickle.dump(log_reg_CV_rancv, open(\"model/new_version/logistic_CV_randomizedsearch.pkl\", \"wb\"))"
   ]
  },
  {
   "cell_type": "code",
   "execution_count": 80,
   "metadata": {
    "ExecuteTime": {
     "end_time": "2020-08-19T15:36:05.325982Z",
     "start_time": "2020-08-19T15:36:05.310339Z"
    }
   },
   "outputs": [],
   "source": [
    "log_reg_CV_rancv = pickle.load(open(\"model/new_version/logistic_CV_randomizedsearch.pkl\", \"rb\"))"
   ]
  },
  {
   "cell_type": "code",
   "execution_count": 81,
   "metadata": {
    "ExecuteTime": {
     "end_time": "2020-08-19T15:36:06.083925Z",
     "start_time": "2020-08-19T15:36:06.078945Z"
    },
    "scrolled": true
   },
   "outputs": [
    {
     "data": {
      "text/plain": [
       "{'solver': 'newton-cg',\n",
       " 'penalty': 'l2',\n",
       " 'fit_intercept': True,\n",
       " 'dual': False,\n",
       " 'Cs': 3}"
      ]
     },
     "execution_count": 81,
     "metadata": {},
     "output_type": "execute_result"
    }
   ],
   "source": [
    "log_reg_CV_rancv.best_params_"
   ]
  },
  {
   "cell_type": "markdown",
   "metadata": {},
   "source": [
    "### Random Forest"
   ]
  },
  {
   "cell_type": "code",
   "execution_count": 66,
   "metadata": {
    "ExecuteTime": {
     "end_time": "2020-08-19T14:33:13.194349Z",
     "start_time": "2020-08-19T14:28:24.587585Z"
    },
    "scrolled": true
   },
   "outputs": [
    {
     "name": "stdout",
     "output_type": "stream",
     "text": [
      "Random Forest Classifier found with RandomizedSearchCV\n",
      "Fitting 5 folds for each of 500 candidates, totalling 2500 fits\n"
     ]
    },
    {
     "name": "stderr",
     "output_type": "stream",
     "text": [
      "[Parallel(n_jobs=-1)]: Using backend LokyBackend with 8 concurrent workers.\n",
      "[Parallel(n_jobs=-1)]: Done  34 tasks      | elapsed:    6.2s\n",
      "[Parallel(n_jobs=-1)]: Done 184 tasks      | elapsed:   21.0s\n",
      "[Parallel(n_jobs=-1)]: Done 434 tasks      | elapsed:   53.0s\n",
      "[Parallel(n_jobs=-1)]: Done 784 tasks      | elapsed:  1.5min\n",
      "[Parallel(n_jobs=-1)]: Done 1234 tasks      | elapsed:  2.4min\n",
      "[Parallel(n_jobs=-1)]: Done 1784 tasks      | elapsed:  3.4min\n",
      "[Parallel(n_jobs=-1)]: Done 2434 tasks      | elapsed:  4.7min\n",
      "[Parallel(n_jobs=-1)]: Done 2500 out of 2500 | elapsed:  4.8min finished\n"
     ]
    },
    {
     "name": "stdout",
     "output_type": "stream",
     "text": [
      "*************************\n",
      "0.8446215139442231\n",
      "0.8269230769230769\n"
     ]
    }
   ],
   "source": [
    "# Create an hyperparameter grid for Random Forest Classifier\n",
    "rf_grid = {\"n_estimators\":np.arange(10, 1000, 100), \n",
    "           \"max_depth\":[None, 3, 5, 7], \n",
    "           \"bootstrap\":[True, False],\n",
    "           \"max_features\": ['sqrt', 'auto', 'log2'],\n",
    "           \"min_samples_split\":np.arange(2, 20, 1), \n",
    "           \"min_samples_leaf\":np.arange(1, 20, 1)}\n",
    "\n",
    "rand_fores = rand_grid_search(RandomForestClassifier(), \n",
    "                              rf_grid, \n",
    "                              name=\"Random Forest Classifier\", \n",
    "                              n_iterat=500)\n",
    "\n",
    "rand_fores.fit(X_train, y_train)\n",
    "print('*************************')\n",
    "np.random.seed(42)\n",
    "print(precision_score(y_train, rand_fores.predict(X_train)))\n",
    "print(precision_score(y_test, rand_fores.predict(X_test)))"
   ]
  },
  {
   "cell_type": "code",
   "execution_count": 82,
   "metadata": {
    "ExecuteTime": {
     "end_time": "2020-08-19T15:38:26.569298Z",
     "start_time": "2020-08-19T15:38:26.559324Z"
    }
   },
   "outputs": [],
   "source": [
    "pickle.dump(rand_fores, open(\"model/new_version/rand_forest_randomizedsearch.pkl\", \"wb\"))"
   ]
  },
  {
   "cell_type": "code",
   "execution_count": 83,
   "metadata": {
    "ExecuteTime": {
     "end_time": "2020-08-19T15:38:36.123284Z",
     "start_time": "2020-08-19T15:38:36.110319Z"
    }
   },
   "outputs": [],
   "source": [
    "rand_fores = pickle.load(open(\"model/new_version/rand_forest_randomizedsearch.pkl\", \"rb\"))"
   ]
  },
  {
   "cell_type": "code",
   "execution_count": 84,
   "metadata": {
    "ExecuteTime": {
     "end_time": "2020-08-19T15:38:07.802554Z",
     "start_time": "2020-08-19T15:38:07.797567Z"
    }
   },
   "outputs": [
    {
     "data": {
      "text/plain": [
       "{'n_estimators': 510,\n",
       " 'min_samples_split': 17,\n",
       " 'min_samples_leaf': 12,\n",
       " 'max_features': 'log2',\n",
       " 'max_depth': None,\n",
       " 'bootstrap': False}"
      ]
     },
     "execution_count": 84,
     "metadata": {},
     "output_type": "execute_result"
    }
   ],
   "source": [
    "rand_fores.best_params_"
   ]
  },
  {
   "cell_type": "markdown",
   "metadata": {},
   "source": [
    "### Gradient Boosting"
   ]
  },
  {
   "cell_type": "code",
   "execution_count": 67,
   "metadata": {
    "ExecuteTime": {
     "end_time": "2020-08-19T14:42:16.505406Z",
     "start_time": "2020-08-19T14:33:33.137637Z"
    }
   },
   "outputs": [
    {
     "name": "stdout",
     "output_type": "stream",
     "text": [
      "Gradient Boosting Classifier found with RandomizedSearchCV\n",
      "Fitting 5 folds for each of 500 candidates, totalling 2500 fits\n"
     ]
    },
    {
     "name": "stderr",
     "output_type": "stream",
     "text": [
      "[Parallel(n_jobs=-1)]: Using backend LokyBackend with 8 concurrent workers.\n",
      "[Parallel(n_jobs=-1)]: Done  34 tasks      | elapsed:   10.8s\n",
      "[Parallel(n_jobs=-1)]: Done 184 tasks      | elapsed:   29.0s\n",
      "[Parallel(n_jobs=-1)]: Done 434 tasks      | elapsed:  1.1min\n",
      "[Parallel(n_jobs=-1)]: Done 784 tasks      | elapsed:  2.3min\n",
      "[Parallel(n_jobs=-1)]: Done 1234 tasks      | elapsed:  3.7min\n",
      "[Parallel(n_jobs=-1)]: Done 1784 tasks      | elapsed:  5.4min\n",
      "[Parallel(n_jobs=-1)]: Done 2434 tasks      | elapsed:  8.4min\n"
     ]
    },
    {
     "name": "stdout",
     "output_type": "stream",
     "text": [
      "*************************\n",
      "0.8645418326693227\n",
      "0.7962962962962963\n"
     ]
    },
    {
     "name": "stderr",
     "output_type": "stream",
     "text": [
      "[Parallel(n_jobs=-1)]: Done 2500 out of 2500 | elapsed:  8.7min finished\n"
     ]
    }
   ],
   "source": [
    "# Create an hyperparameter grid for Gradiet Boosting Classifier\n",
    "gb_grid = {\"loss\":['exponential', 'deviance'],\n",
    "           \"learning_rate\":[0.1, 0.05], \n",
    "           \"max_depth\":[None, 1, 3], \n",
    "           \"n_estimators\":np.arange(10, 1000, 20), \n",
    "           \"min_samples_split\":np.arange(2, 10, 1), \n",
    "           \"min_samples_leaf\":np.arange(1, 5, 1)}\n",
    "\n",
    "rs_gra_boo = rand_grid_search(GradientBoostingClassifier(), \n",
    "                              gb_grid, \n",
    "                              name=\"Gradient Boosting Classifier\", \n",
    "                              n_iterat=500)\n",
    "\n",
    "rs_gra_boo.fit(X_train, y_train)\n",
    "print('*************************')\n",
    "np.random.seed(42)\n",
    "print(precision_score(y_train, rs_gra_boo.predict(X_train)))\n",
    "print(precision_score(y_test, rs_gra_boo.predict(X_test)))"
   ]
  },
  {
   "cell_type": "code",
   "execution_count": 85,
   "metadata": {
    "ExecuteTime": {
     "end_time": "2020-08-19T15:38:26.569298Z",
     "start_time": "2020-08-19T15:38:26.559324Z"
    }
   },
   "outputs": [],
   "source": [
    "pickle.dump(rs_gra_boo, open(\"model/new_version/grad_boost_randomizedsearch.pkl\", \"wb\"))"
   ]
  },
  {
   "cell_type": "code",
   "execution_count": 86,
   "metadata": {
    "ExecuteTime": {
     "end_time": "2020-08-19T15:38:36.123284Z",
     "start_time": "2020-08-19T15:38:36.110319Z"
    }
   },
   "outputs": [],
   "source": [
    "rs_gra_boo = pickle.load(open(\"model/new_version/grad_boost_randomizedsearch.pkl\", \"rb\"))"
   ]
  },
  {
   "cell_type": "code",
   "execution_count": 87,
   "metadata": {
    "ExecuteTime": {
     "end_time": "2020-08-19T15:38:37.002576Z",
     "start_time": "2020-08-19T15:38:36.997591Z"
    }
   },
   "outputs": [
    {
     "data": {
      "text/plain": [
       "{'n_estimators': 70,\n",
       " 'min_samples_split': 3,\n",
       " 'min_samples_leaf': 4,\n",
       " 'max_depth': 3,\n",
       " 'loss': 'exponential',\n",
       " 'learning_rate': 0.05}"
      ]
     },
     "execution_count": 87,
     "metadata": {},
     "output_type": "execute_result"
    }
   ],
   "source": [
    "rs_gra_boo.best_params_"
   ]
  },
  {
   "cell_type": "markdown",
   "metadata": {},
   "source": [
    "Between the four models we chose two of them, since they seem to behave better. \n",
    "\n",
    "Between the two logistic regression models, we select the Cross Validation one, since it gives a more realistic result even though they score the same precision.\n",
    "\n",
    "The random forest model is the best one between our approaches, since is the highest accuracy with the least overfit. \n",
    "\n",
    "Regarding the Gradient Boosting model, the overfit generated is remarkable, since the accuracy difference between Train and Validation is 12%; therefore we chose to not pursue this model.\n",
    "\n",
    "## GridSearchCV\n",
    "\n",
    "Now we'll focus, as already said, in a diver search of hyperparameters for the two chosen model, `LogisticRegressionCV()` and `RandomForestClassifier()`, through `GridSearchCV()`.\n",
    "\n",
    "We now update our grids.\n",
    "\n",
    "### Grids"
   ]
  },
  {
   "cell_type": "code",
   "execution_count": 90,
   "metadata": {
    "ExecuteTime": {
     "end_time": "2020-08-19T15:40:24.471224Z",
     "start_time": "2020-08-19T15:40:24.463221Z"
    }
   },
   "outputs": [],
   "source": [
    "# Create an hyperparameter grid for Logistic Regression - GridSearchCV Version\n",
    "log_reg_grid_gscv = {\"C\":np.logspace(-5, 5, 200), \n",
    "                \"dual\":[True, False],\n",
    "                \"fit_intercept\":[True, False],\n",
    "                \"penalty\" : ['l1', 'l2', 'elasticnet'],\n",
    "                \"solver\": ['newton-cg', 'lbfgs', 'liblinear', 'sag', 'saga']}\n",
    "\n",
    "# Create an hyperparameter grid for Logistic Regression CV - GridSearchCV Version\n",
    "log_reg_CV_grid_gscv = {\"Cs\":[np.logspace(-1, 1, 30).tolist(), 1, 3, 5, 7, 10, 12], \n",
    "                        \"fit_intercept\":[True, False],\n",
    "                        \"dual\":[True, False],\n",
    "                        \"penalty\" : ['l1', 'l2', 'elasticnet'],\n",
    "                        \"solver\": ['newton-cg', 'lbfgs', 'liblinear', 'sag', 'saga']}\n",
    "\n",
    "# Create an hyperparameter grid for Random Forest Classifier\n",
    "rf_grid_gscv = {\"n_estimators\":np.arange(10, 150, 10), \n",
    "                \"max_depth\":[4, 6, 8, 10], \n",
    "                'max_features': ['auto', 'sqrt', 'log2'],\n",
    "                \"min_samples_split\":np.arange(6, 10, 2), \n",
    "                \"min_samples_leaf\":np.arange(6, 10, 2)}"
   ]
  },
  {
   "cell_type": "markdown",
   "metadata": {},
   "source": [
    "### Logistic Regression "
   ]
  },
  {
   "cell_type": "code",
   "execution_count": 94,
   "metadata": {
    "ExecuteTime": {
     "end_time": "2020-08-19T15:45:17.345271Z",
     "start_time": "2020-08-19T15:44:11.381600Z"
    }
   },
   "outputs": [
    {
     "name": "stdout",
     "output_type": "stream",
     "text": [
      "Logistic Regression found with GridSearchCV\n",
      "Fitting 5 folds for each of 12000 candidates, totalling 60000 fits\n"
     ]
    },
    {
     "name": "stderr",
     "output_type": "stream",
     "text": [
      "[Parallel(n_jobs=-1)]: Using backend LokyBackend with 8 concurrent workers.\n",
      "[Parallel(n_jobs=-1)]: Done  34 tasks      | elapsed:    1.6s\n",
      "[Parallel(n_jobs=-1)]: Done 4624 tasks      | elapsed:    4.7s\n",
      "[Parallel(n_jobs=-1)]: Done 20624 tasks      | elapsed:   17.2s\n",
      "[Parallel(n_jobs=-1)]: Done 43024 tasks      | elapsed:   41.9s\n"
     ]
    },
    {
     "name": "stdout",
     "output_type": "stream",
     "text": [
      "*************************\n",
      "0.8021978021978022\n",
      "0.7586206896551724\n"
     ]
    },
    {
     "name": "stderr",
     "output_type": "stream",
     "text": [
      "[Parallel(n_jobs=-1)]: Done 60000 out of 60000 | elapsed:  1.1min finished\n"
     ]
    }
   ],
   "source": [
    "log_reg_gridsearch = rand_grid_search(LogisticRegression(), \n",
    "                                      log_reg_grid_gscv,\n",
    "                                      randomiz=False,  \n",
    "                                      name=\"Logistic Regression\")\n",
    "\n",
    "log_reg_gridsearch.fit(X_train, y_train)\n",
    "print('*************************')\n",
    "np.random.seed(42)\n",
    "print(precision_score(y_train, log_reg_gridsearch.predict(X_train)))\n",
    "print(precision_score(y_test, log_reg_gridsearch.predict(X_test)))"
   ]
  },
  {
   "cell_type": "code",
   "execution_count": 95,
   "metadata": {
    "ExecuteTime": {
     "end_time": "2020-08-19T15:45:58.977036Z",
     "start_time": "2020-08-19T15:45:58.967043Z"
    }
   },
   "outputs": [],
   "source": [
    "pickle.dump(log_reg_gridsearch, open(\"model/new_version/logistic_gridsearch.pkl\", \"wb\"))"
   ]
  },
  {
   "cell_type": "code",
   "execution_count": 96,
   "metadata": {
    "ExecuteTime": {
     "end_time": "2020-08-19T15:45:59.316667Z",
     "start_time": "2020-08-19T15:45:59.301680Z"
    }
   },
   "outputs": [],
   "source": [
    "log_reg_gridsearch = pickle.load(open(\"model/new_version/logistic_gridsearch.pkl\", \"rb\"))"
   ]
  },
  {
   "cell_type": "code",
   "execution_count": 97,
   "metadata": {
    "ExecuteTime": {
     "end_time": "2020-08-19T15:46:06.994637Z",
     "start_time": "2020-08-19T15:46:06.990651Z"
    }
   },
   "outputs": [
    {
     "data": {
      "text/plain": [
       "{'C': 8804.883581643482,\n",
       " 'dual': False,\n",
       " 'fit_intercept': True,\n",
       " 'penalty': 'l2',\n",
       " 'solver': 'lbfgs'}"
      ]
     },
     "execution_count": 97,
     "metadata": {},
     "output_type": "execute_result"
    }
   ],
   "source": [
    "log_reg_gridsearch.best_params_"
   ]
  },
  {
   "cell_type": "markdown",
   "metadata": {},
   "source": [
    "### Logistic Regression CV"
   ]
  },
  {
   "cell_type": "code",
   "execution_count": 98,
   "metadata": {
    "ExecuteTime": {
     "end_time": "2020-08-19T15:48:47.496618Z",
     "start_time": "2020-08-19T15:47:56.351509Z"
    }
   },
   "outputs": [
    {
     "name": "stdout",
     "output_type": "stream",
     "text": [
      "Logistic Regression CV found with GridSearchCV\n",
      "Fitting 5 folds for each of 420 candidates, totalling 2100 fits\n"
     ]
    },
    {
     "name": "stderr",
     "output_type": "stream",
     "text": [
      "[Parallel(n_jobs=-1)]: Using backend LokyBackend with 8 concurrent workers.\n",
      "[Parallel(n_jobs=-1)]: Done  62 tasks      | elapsed:    0.0s\n",
      "[Parallel(n_jobs=-1)]: Done 806 tasks      | elapsed:   17.8s\n",
      "[Parallel(n_jobs=-1)]: Done 1762 tasks      | elapsed:   39.8s\n",
      "[Parallel(n_jobs=-1)]: Done 2100 out of 2100 | elapsed:   50.4s finished\n"
     ]
    },
    {
     "name": "stdout",
     "output_type": "stream",
     "text": [
      "*************************\n",
      "0.7985611510791367\n",
      "0.7457627118644068\n"
     ]
    }
   ],
   "source": [
    "log_reg_CV_gricv = rand_grid_search(LogisticRegressionCV(), \n",
    "                                    log_reg_CV_grid_gscv, \n",
    "                                    randomiz=False,  \n",
    "                                    name=\"Logistic Regression CV\")\n",
    "\n",
    "log_reg_CV_gricv.fit(X_train, y_train)\n",
    "print('*************************')\n",
    "np.random.seed(42)\n",
    "print(precision_score(y_train, log_reg_CV_gricv.predict(X_train)))\n",
    "print(precision_score(y_test, log_reg_CV_gricv.predict(X_test)))"
   ]
  },
  {
   "cell_type": "code",
   "execution_count": 79,
   "metadata": {
    "ExecuteTime": {
     "end_time": "2020-08-19T15:35:34.363748Z",
     "start_time": "2020-08-19T15:35:34.358737Z"
    }
   },
   "outputs": [],
   "source": [
    "pickle.dump(log_reg_CV_gricv, open(\"model/new_version/logistic_CV_gridsearch.pkl\", \"wb\"))"
   ]
  },
  {
   "cell_type": "code",
   "execution_count": 80,
   "metadata": {
    "ExecuteTime": {
     "end_time": "2020-08-19T15:36:05.325982Z",
     "start_time": "2020-08-19T15:36:05.310339Z"
    }
   },
   "outputs": [],
   "source": [
    "log_reg_CV_gricv = pickle.load(open(\"model/new_version/logistic_CV_gridsearch.pkl\", \"rb\"))"
   ]
  },
  {
   "cell_type": "code",
   "execution_count": 81,
   "metadata": {
    "ExecuteTime": {
     "end_time": "2020-08-19T15:36:06.083925Z",
     "start_time": "2020-08-19T15:36:06.078945Z"
    }
   },
   "outputs": [
    {
     "data": {
      "text/plain": [
       "{'solver': 'newton-cg',\n",
       " 'penalty': 'l2',\n",
       " 'fit_intercept': True,\n",
       " 'dual': False,\n",
       " 'Cs': 3}"
      ]
     },
     "execution_count": 81,
     "metadata": {},
     "output_type": "execute_result"
    }
   ],
   "source": [
    "log_reg_CV_gricv.best_params_"
   ]
  },
  {
   "cell_type": "markdown",
   "metadata": {},
   "source": [
    "### Random Forest"
   ]
  },
  {
   "cell_type": "code",
   "execution_count": 99,
   "metadata": {
    "ExecuteTime": {
     "end_time": "2020-08-19T15:52:33.180875Z",
     "start_time": "2020-08-19T15:51:19.845872Z"
    },
    "scrolled": true
   },
   "outputs": [
    {
     "name": "stdout",
     "output_type": "stream",
     "text": [
      "Random Forest Classifier found with GridSearchCV\n",
      "Fitting 5 folds for each of 672 candidates, totalling 3360 fits\n"
     ]
    },
    {
     "name": "stderr",
     "output_type": "stream",
     "text": [
      "[Parallel(n_jobs=-1)]: Using backend LokyBackend with 8 concurrent workers.\n",
      "[Parallel(n_jobs=-1)]: Done  52 tasks      | elapsed:    1.1s\n",
      "[Parallel(n_jobs=-1)]: Done 352 tasks      | elapsed:    7.4s\n",
      "[Parallel(n_jobs=-1)]: Done 852 tasks      | elapsed:   18.2s\n",
      "[Parallel(n_jobs=-1)]: Done 1552 tasks      | elapsed:   33.5s\n",
      "[Parallel(n_jobs=-1)]: Done 2452 tasks      | elapsed:   53.3s\n"
     ]
    },
    {
     "name": "stdout",
     "output_type": "stream",
     "text": [
      "*************************\n",
      "0.8536585365853658\n",
      "0.8431372549019608\n"
     ]
    },
    {
     "name": "stderr",
     "output_type": "stream",
     "text": [
      "[Parallel(n_jobs=-1)]: Done 3360 out of 3360 | elapsed:  1.2min finished\n"
     ]
    }
   ],
   "source": [
    "rand_fores_gcv = rand_grid_search(RandomForestClassifier(), \n",
    "                                  rf_grid_gscv, \n",
    "                                  randomiz=False,  \n",
    "                                  name=\"Random Forest Classifier\")\n",
    "\n",
    "rand_fores_gcv.fit(X_train, y_train)\n",
    "print('*************************')\n",
    "np.random.seed(42)\n",
    "print(precision_score(y_train, rand_fores_gcv.predict(X_train)))\n",
    "print(precision_score(y_test, rand_fores_gcv.predict(X_test)))"
   ]
  },
  {
   "cell_type": "code",
   "execution_count": 100,
   "metadata": {
    "ExecuteTime": {
     "end_time": "2020-08-19T15:52:33.189850Z",
     "start_time": "2020-08-19T15:52:33.182869Z"
    }
   },
   "outputs": [],
   "source": [
    "pickle.dump(rand_fores_gcv, open(\"model/new_version/rand_forest_gridsearch.pkl\", \"wb\"))"
   ]
  },
  {
   "cell_type": "code",
   "execution_count": 101,
   "metadata": {
    "ExecuteTime": {
     "end_time": "2020-08-19T15:52:33.275640Z",
     "start_time": "2020-08-19T15:52:33.191845Z"
    }
   },
   "outputs": [],
   "source": [
    "rand_fores_gcv = pickle.load(open(\"model/new_version/rand_forest_gridsearch.pkl\", \"rb\"))"
   ]
  },
  {
   "cell_type": "code",
   "execution_count": 102,
   "metadata": {
    "ExecuteTime": {
     "end_time": "2020-08-19T15:52:33.369388Z",
     "start_time": "2020-08-19T15:52:33.276618Z"
    },
    "scrolled": true
   },
   "outputs": [
    {
     "data": {
      "text/plain": [
       "{'max_depth': 10,\n",
       " 'max_features': 'auto',\n",
       " 'min_samples_leaf': 6,\n",
       " 'min_samples_split': 6,\n",
       " 'n_estimators': 30}"
      ]
     },
     "execution_count": 102,
     "metadata": {},
     "output_type": "execute_result"
    }
   ],
   "source": [
    "rand_fores_gcv.best_params_"
   ]
  },
  {
   "cell_type": "markdown",
   "metadata": {
    "ExecuteTime": {
     "end_time": "2020-08-19T15:56:34.759307Z",
     "start_time": "2020-08-19T15:56:34.750332Z"
    }
   },
   "source": [
    "Ok, let's compare the best result obtained with the other already obtained."
   ]
  },
  {
   "cell_type": "code",
   "execution_count": 103,
   "metadata": {
    "ExecuteTime": {
     "end_time": "2020-08-19T15:56:34.759307Z",
     "start_time": "2020-08-19T15:56:34.750332Z"
    }
   },
   "outputs": [
    {
     "name": "stdout",
     "output_type": "stream",
     "text": [
      "************************* Author Random Forest\n",
      "0.8531746031746031\n",
      "0.8301886792452831\n",
      "************************* Updated Random Forest\n",
      "0.8536585365853658\n",
      "0.8431372549019608\n"
     ]
    }
   ],
   "source": [
    "parameters = {'bootstrap': False, 'min_samples_leaf': 3, 'n_estimators': 50, \n",
    "                  'min_samples_split': 10, 'max_features': 'sqrt', 'max_depth': 6}\n",
    "np.random.seed(42)\n",
    "author_model = RandomForestClassifier(**parameters)\n",
    "author_model.fit(X_train, y_train)\n",
    "\n",
    "print('************************* Author Random Forest')\n",
    "print(precision_score(y_train, author_model.predict(X_train)))\n",
    "print(precision_score(y_test, author_model.predict(X_test)))\n",
    "\n",
    "print('************************* Updated Random Forest')\n",
    "print(precision_score(y_train, rand_fores_gcv.predict(X_train)))\n",
    "print(precision_score(y_test, rand_fores_gcv.predict(X_test)))"
   ]
  },
  {
   "cell_type": "markdown",
   "metadata": {
    "ExecuteTime": {
     "end_time": "2020-08-19T15:56:34.759307Z",
     "start_time": "2020-08-19T15:56:34.750332Z"
    }
   },
   "source": [
    "> Okay, We have a better result on the validation dataset!!!! \n",
    "\n",
    "Let's see what is the result on Kaggle!"
   ]
  },
  {
   "cell_type": "code",
   "execution_count": 105,
   "metadata": {
    "ExecuteTime": {
     "end_time": "2020-08-19T15:56:34.759307Z",
     "start_time": "2020-08-19T15:56:34.750332Z"
    }
   },
   "outputs": [],
   "source": [
    "output = rand_fores_gcv.predict(new_test).astype(int)\n",
    "df_output = pd.DataFrame()\n",
    "aux = pd.read_csv('data/test.csv')\n",
    "df_output['PassengerId'] = aux['PassengerId']\n",
    "df_output['Survived'] = output\n",
    "df_output[['PassengerId','Survived']].to_csv('submission/my_try.csv', index=False)"
   ]
  },
  {
   "cell_type": "code",
   "execution_count": 106,
   "metadata": {
    "ExecuteTime": {
     "end_time": "2020-08-19T15:56:34.759307Z",
     "start_time": "2020-08-19T15:56:34.750332Z"
    }
   },
   "outputs": [
    {
     "data": {
      "text/html": [
       "<div>\n",
       "<style scoped>\n",
       "    .dataframe tbody tr th:only-of-type {\n",
       "        vertical-align: middle;\n",
       "    }\n",
       "\n",
       "    .dataframe tbody tr th {\n",
       "        vertical-align: top;\n",
       "    }\n",
       "\n",
       "    .dataframe thead th {\n",
       "        text-align: right;\n",
       "    }\n",
       "</style>\n",
       "<table border=\"1\" class=\"dataframe\">\n",
       "  <thead>\n",
       "    <tr style=\"text-align: right;\">\n",
       "      <th></th>\n",
       "      <th>PassengerId</th>\n",
       "      <th>Survived</th>\n",
       "    </tr>\n",
       "  </thead>\n",
       "  <tbody>\n",
       "    <tr>\n",
       "      <th>0</th>\n",
       "      <td>892</td>\n",
       "      <td>0</td>\n",
       "    </tr>\n",
       "    <tr>\n",
       "      <th>1</th>\n",
       "      <td>893</td>\n",
       "      <td>1</td>\n",
       "    </tr>\n",
       "    <tr>\n",
       "      <th>2</th>\n",
       "      <td>894</td>\n",
       "      <td>0</td>\n",
       "    </tr>\n",
       "    <tr>\n",
       "      <th>3</th>\n",
       "      <td>895</td>\n",
       "      <td>0</td>\n",
       "    </tr>\n",
       "    <tr>\n",
       "      <th>4</th>\n",
       "      <td>896</td>\n",
       "      <td>1</td>\n",
       "    </tr>\n",
       "    <tr>\n",
       "      <th>...</th>\n",
       "      <td>...</td>\n",
       "      <td>...</td>\n",
       "    </tr>\n",
       "    <tr>\n",
       "      <th>413</th>\n",
       "      <td>1305</td>\n",
       "      <td>0</td>\n",
       "    </tr>\n",
       "    <tr>\n",
       "      <th>414</th>\n",
       "      <td>1306</td>\n",
       "      <td>1</td>\n",
       "    </tr>\n",
       "    <tr>\n",
       "      <th>415</th>\n",
       "      <td>1307</td>\n",
       "      <td>0</td>\n",
       "    </tr>\n",
       "    <tr>\n",
       "      <th>416</th>\n",
       "      <td>1308</td>\n",
       "      <td>0</td>\n",
       "    </tr>\n",
       "    <tr>\n",
       "      <th>417</th>\n",
       "      <td>1309</td>\n",
       "      <td>1</td>\n",
       "    </tr>\n",
       "  </tbody>\n",
       "</table>\n",
       "<p>418 rows × 2 columns</p>\n",
       "</div>"
      ],
      "text/plain": [
       "     PassengerId  Survived\n",
       "0            892         0\n",
       "1            893         1\n",
       "2            894         0\n",
       "3            895         0\n",
       "4            896         1\n",
       "..           ...       ...\n",
       "413         1305         0\n",
       "414         1306         1\n",
       "415         1307         0\n",
       "416         1308         0\n",
       "417         1309         1\n",
       "\n",
       "[418 rows x 2 columns]"
      ]
     },
     "execution_count": 106,
     "metadata": {},
     "output_type": "execute_result"
    }
   ],
   "source": [
    "df_output"
   ]
  },
  {
   "cell_type": "code",
   "execution_count": null,
   "metadata": {
    "ExecuteTime": {
     "end_time": "2020-08-19T15:56:34.759307Z",
     "start_time": "2020-08-19T15:56:34.750332Z"
    }
   },
   "outputs": [],
   "source": []
  },
  {
   "cell_type": "code",
   "execution_count": null,
   "metadata": {},
   "outputs": [],
   "source": []
  }
 ],
 "metadata": {
  "kernelspec": {
   "display_name": "Python 3",
   "language": "python",
   "name": "python3"
  },
  "language_info": {
   "codemirror_mode": {
    "name": "ipython",
    "version": 3
   },
   "file_extension": ".py",
   "mimetype": "text/x-python",
   "name": "python",
   "nbconvert_exporter": "python",
   "pygments_lexer": "ipython3",
   "version": "3.8.3"
  },
  "toc": {
   "base_numbering": 1,
   "nav_menu": {},
   "number_sections": true,
   "sideBar": true,
   "skip_h1_title": false,
   "title_cell": "Table of Contents",
   "title_sidebar": "Contents",
   "toc_cell": false,
   "toc_position": {},
   "toc_section_display": true,
   "toc_window_display": true
  }
 },
 "nbformat": 4,
 "nbformat_minor": 4
}
