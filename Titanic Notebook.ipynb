{
 "cells": [
  {
   "cell_type": "markdown",
   "metadata": {},
   "source": [
    "<html>\n",
    "<head>\n",
    "  <font size=\"+5\">Predicting Titanic Passenger survivors</font>\n",
    "</head>\n",
    "</html>"
   ]
  },
  {
   "cell_type": "markdown",
   "metadata": {},
   "source": [
    "# Problem Definition\n",
    "\n",
    "This is the legendary Titanic ML competition – the best, first challenge for you to dive into ML competitions and familiarize yourself with how the Kaggle platform works.\n",
    "\n",
    "> The competition is simple: use machine learning to create a model that predicts which passengers survived the Titanic shipwreck.\n",
    "\n",
    "The sinking of the Titanic is one of the most infamous shipwrecks in history.\n",
    "\n",
    "On April 15, 1912, during her maiden voyage, the widely considered “unsinkable” RMS Titanic sank after colliding with an iceberg. Unfortunately, there weren’t enough lifeboats for everyone onboard, resulting in the death of 1502 out of 2224 passengers and crew.\n",
    "\n",
    "While there was some element of luck involved in surviving, it seems some groups of people were more likely to survive than others.\n",
    "\n",
    "# Data\n",
    "\n"
   ]
  },
  {
   "cell_type": "markdown",
   "metadata": {},
   "source": [
    "The data, taken from here (https://www.kaggle.com/c/titanic/data), are divided in this way:\n",
    "\n",
    "* For the training set, it's provided the outcome (also known as the “ground truth”) for each passenger. In training, there are 891 record with 12 attributes, later explained.\n",
    "\n",
    "* The test set should be used to see how well your model performs on unseen data. For the test set, it is not provided the ground truth for each passenger. \n",
    "\n"
   ]
  },
  {
   "cell_type": "markdown",
   "metadata": {},
   "source": [
    "# Evaluation "
   ]
  },
  {
   "cell_type": "markdown",
   "metadata": {},
   "source": [
    "> Good results, without knowing the Test solution, is around 78/80%"
   ]
  },
  {
   "cell_type": "markdown",
   "metadata": {},
   "source": [
    "# Features \n",
    "\n",
    "## *TITANIC DICTIONARY:*\n",
    "\n",
    "1. PassengerId  (an integer to identify the passenger)\n",
    "2. Survived (Survival, i.e. what we should predict):\t\n",
    " * 0 = No, \n",
    " * 1 = Yes \n",
    "3. Pclass (Ticket class):      \n",
    " * 1 = 1st, \n",
    " * 2 = 2nd, \n",
    " * 3 = 3rd \n",
    "4. Name:        String of the name \n",
    "5. Sex:         Person Gender \n",
    "6. Age:         Person Age\n",
    "7. SibSp:       integer, # of siblings / spouses aboard the Titanic\n",
    "8. Parch:       # of parents / children aboard the Titanic\n",
    "9. Ticket:      Ticket number\t\n",
    "10. Fare:       Passenger Fare \n",
    "11. Cabin:      Cabin number\n",
    "12. Embarked (Port of Embarkation):   \t\n",
    " * C = Cherbourg, \n",
    " * Q = Queenstown, \n",
    " * S = Southampton\n"
   ]
  },
  {
   "cell_type": "code",
   "execution_count": 1,
   "metadata": {
    "ExecuteTime": {
     "end_time": "2020-08-07T12:25:01.621075Z",
     "start_time": "2020-08-07T12:24:58.700981Z"
    }
   },
   "outputs": [],
   "source": [
    "# Preparing tools: Libraries\n",
    "import numpy as np\n",
    "import pandas as pd\n",
    "import matplotlib.pyplot as plt\n",
    "import seaborn as sns\n",
    "%matplotlib inline "
   ]
  },
  {
   "cell_type": "markdown",
   "metadata": {},
   "source": [
    "## Load data and First Impressions"
   ]
  },
  {
   "cell_type": "code",
   "execution_count": 2,
   "metadata": {
    "ExecuteTime": {
     "end_time": "2020-08-07T12:25:04.754391Z",
     "start_time": "2020-08-07T12:25:04.732140Z"
    }
   },
   "outputs": [
    {
     "data": {
      "text/plain": [
       "(891, 12)"
      ]
     },
     "execution_count": 2,
     "metadata": {},
     "output_type": "execute_result"
    }
   ],
   "source": [
    "train = pd.read_csv(\"../data/train.csv\")\n",
    "train.shape"
   ]
  },
  {
   "cell_type": "code",
   "execution_count": 3,
   "metadata": {
    "ExecuteTime": {
     "end_time": "2020-08-07T12:25:06.928507Z",
     "start_time": "2020-08-07T12:25:06.922576Z"
    }
   },
   "outputs": [
    {
     "data": {
      "text/plain": [
       "Index(['PassengerId', 'Survived', 'Pclass', 'Name', 'Sex', 'Age', 'SibSp',\n",
       "       'Parch', 'Ticket', 'Fare', 'Cabin', 'Embarked'],\n",
       "      dtype='object')"
      ]
     },
     "execution_count": 3,
     "metadata": {},
     "output_type": "execute_result"
    }
   ],
   "source": [
    "train.columns # name of the columns, i.e. the dictionary"
   ]
  },
  {
   "cell_type": "code",
   "execution_count": 4,
   "metadata": {
    "ExecuteTime": {
     "end_time": "2020-08-07T12:25:08.340200Z",
     "start_time": "2020-08-07T12:25:08.317030Z"
    }
   },
   "outputs": [
    {
     "data": {
      "text/plain": [
       "0    0.616162\n",
       "1    0.383838\n",
       "Name: Survived, dtype: float64"
      ]
     },
     "execution_count": 4,
     "metadata": {},
     "output_type": "execute_result"
    }
   ],
   "source": [
    "# How is the target distributed?\n",
    "train.Survived.value_counts(normalize=True)"
   ]
  },
  {
   "cell_type": "code",
   "execution_count": 5,
   "metadata": {
    "ExecuteTime": {
     "end_time": "2020-08-07T12:25:14.422193Z",
     "start_time": "2020-08-07T12:25:14.260317Z"
    }
   },
   "outputs": [
    {
     "data": {
      "image/png": "[encoded data removed]",
      "text/plain": [
       "<Figure size 432x288 with 1 Axes>"
      ]
     },
     "metadata": {
      "needs_background": "light"
     },
     "output_type": "display_data"
    }
   ],
   "source": [
    "# Let's plot it\n",
    "train.Survived.value_counts().plot(kind=\"bar\", color=[\"lightblue\", \"salmon\"]);"
   ]
  },
  {
   "cell_type": "code",
   "execution_count": 6,
   "metadata": {
    "ExecuteTime": {
     "end_time": "2020-08-07T12:25:18.219958Z",
     "start_time": "2020-08-07T12:25:18.206196Z"
    }
   },
   "outputs": [
    {
     "name": "stdout",
     "output_type": "stream",
     "text": [
      "<class 'pandas.core.frame.DataFrame'>\n",
      "RangeIndex: 891 entries, 0 to 890\n",
      "Data columns (total 12 columns):\n",
      " #   Column       Non-Null Count  Dtype  \n",
      "---  ------       --------------  -----  \n",
      " 0   PassengerId  891 non-null    int64  \n",
      " 1   Survived     891 non-null    int64  \n",
      " 2   Pclass       891 non-null    int64  \n",
      " 3   Name         891 non-null    object \n",
      " 4   Sex          891 non-null    object \n",
      " 5   Age          714 non-null    float64\n",
      " 6   SibSp        891 non-null    int64  \n",
      " 7   Parch        891 non-null    int64  \n",
      " 8   Ticket       891 non-null    object \n",
      " 9   Fare         891 non-null    float64\n",
      " 10  Cabin        204 non-null    object \n",
      " 11  Embarked     889 non-null    object \n",
      "dtypes: float64(2), int64(5), object(5)\n",
      "memory usage: 83.7+ KB\n"
     ]
    }
   ],
   "source": [
    "train.info()"
   ]
  },
  {
   "cell_type": "markdown",
   "metadata": {},
   "source": [
    "## EDA: Exploratory Data Analysis \n",
    "\n",
    "Idea: Gender, Class, Age are probably highly influent, so let's try them.\n",
    "\n",
    "Let's see the correlation between: \n",
    " * Sex and Survival,\n",
    " * Class and Survival, \n",
    " * Age and Survival."
   ]
  },
  {
   "cell_type": "code",
   "execution_count": 7,
   "metadata": {
    "ExecuteTime": {
     "end_time": "2020-08-07T12:26:08.858192Z",
     "start_time": "2020-08-07T12:26:08.662169Z"
    }
   },
   "outputs": [
    {
     "data": {
      "image/png": "[encoded data removed]",
      "text/plain": [
       "<Figure size 720x432 with 1 Axes>"
      ]
     },
     "metadata": {
      "needs_background": "light"
     },
     "output_type": "display_data"
    }
   ],
   "source": [
    "pd.crosstab(train.Sex, train.Survived).plot(kind=\"bar\", figsize=(10,6), color=[\"salmon\", \"lightblue\"]);\n",
    "plt.title(\"Survived per Gender\")\n",
    "plt.xlabel(\"Gender\")\n",
    "plt.ylabel(\"Amount\")\n",
    "plt.xticks(rotation=0)\n",
    "plt.legend([\"Death\", \"Survived\"]);"
   ]
  },
  {
   "cell_type": "code",
   "execution_count": 8,
   "metadata": {
    "ExecuteTime": {
     "end_time": "2020-08-07T12:26:12.441162Z",
     "start_time": "2020-08-07T12:26:12.225919Z"
    }
   },
   "outputs": [
    {
     "data": {
      "image/png": "[encoded data removed]",
      "text/plain": [
       "<Figure size 720x432 with 1 Axes>"
      ]
     },
     "metadata": {
      "needs_background": "light"
     },
     "output_type": "display_data"
    }
   ],
   "source": [
    "pd.crosstab(train.Pclass, train.Survived).plot(kind=\"bar\", figsize=(10,6), color=[\"salmon\", \"lightblue\"]);\n",
    "plt.title(\"Survived per Class\")\n",
    "plt.xlabel(\"Class\")\n",
    "plt.ylabel(\"Amount\")\n",
    "plt.xticks(rotation=0)\n",
    "plt.legend([\"Death\", \"Survived\"]);"
   ]
  },
  {
   "cell_type": "markdown",
   "metadata": {},
   "source": [
    "The age is different to treat, since is more continuous than discrete. I'll try to discretize it. Before I need to see how it's distributed in the dataset."
   ]
  },
  {
   "cell_type": "code",
   "execution_count": 9,
   "metadata": {
    "ExecuteTime": {
     "end_time": "2020-08-07T12:26:14.864085Z",
     "start_time": "2020-08-07T12:26:14.677485Z"
    }
   },
   "outputs": [
    {
     "data": {
      "image/png": "[encoded data removed]",
      "text/plain": [
       "<Figure size 432x288 with 1 Axes>"
      ]
     },
     "metadata": {
      "needs_background": "light"
     },
     "output_type": "display_data"
    }
   ],
   "source": [
    "train.Age.plot.hist();"
   ]
  },
  {
   "cell_type": "code",
   "execution_count": 10,
   "metadata": {
    "ExecuteTime": {
     "end_time": "2020-08-07T12:26:16.069802Z",
     "start_time": "2020-08-07T12:26:16.062415Z"
    }
   },
   "outputs": [],
   "source": [
    "bins = [0, 10, 20, 30, 40, 50, 60, 70, 80]\n",
    "train['age_binned'] = pd.cut(train['Age'], bins)"
   ]
  },
  {
   "cell_type": "code",
   "execution_count": 11,
   "metadata": {
    "ExecuteTime": {
     "end_time": "2020-08-07T12:26:16.774671Z",
     "start_time": "2020-08-07T12:26:16.761036Z"
    }
   },
   "outputs": [
    {
     "data": {
      "text/plain": [
       "(0, 10]      64\n",
       "(10, 20]    115\n",
       "(20, 30]    230\n",
       "(30, 40]    155\n",
       "(40, 50]     86\n",
       "(50, 60]     42\n",
       "(60, 70]     17\n",
       "(70, 80]      5\n",
       "Name: age_binned, dtype: int64"
      ]
     },
     "execution_count": 11,
     "metadata": {},
     "output_type": "execute_result"
    }
   ],
   "source": [
    "train.age_binned.value_counts().sort_index()"
   ]
  },
  {
   "cell_type": "code",
   "execution_count": 12,
   "metadata": {
    "ExecuteTime": {
     "end_time": "2020-08-07T12:26:18.497944Z",
     "start_time": "2020-08-07T12:26:18.269942Z"
    },
    "scrolled": true
   },
   "outputs": [
    {
     "data": {
      "image/png": "[encoded data removed]",
      "text/plain": [
       "<Figure size 720x432 with 1 Axes>"
      ]
     },
     "metadata": {
      "needs_background": "light"
     },
     "output_type": "display_data"
    }
   ],
   "source": [
    "pd.crosstab(train.age_binned, train.Survived).plot(kind=\"bar\", figsize=(10,6), color=[\"salmon\", \"lightblue\"]);\n",
    "plt.title(\"Survived per Age\")\n",
    "plt.xlabel(\"Age Intervals\")\n",
    "plt.ylabel(\"Amount\")\n",
    "plt.xticks(rotation=0)\n",
    "plt.legend([\"Death\", \"Survived\"]);"
   ]
  },
  {
   "cell_type": "code",
   "execution_count": 13,
   "metadata": {
    "ExecuteTime": {
     "end_time": "2020-08-07T12:26:22.082850Z",
     "start_time": "2020-08-07T12:26:22.077575Z"
    }
   },
   "outputs": [],
   "source": [
    "train = train.drop('age_binned', axis=1)"
   ]
  },
  {
   "cell_type": "markdown",
   "metadata": {},
   "source": [
    "**Let's see the other attributes:**\n",
    "\n",
    "* `SibSp`, `Parch` --> These two attributes mean basically: Were they trying to save entire families or anyone they could? Let's see!\n"
   ]
  },
  {
   "cell_type": "code",
   "execution_count": 14,
   "metadata": {
    "ExecuteTime": {
     "end_time": "2020-08-07T12:26:37.985931Z",
     "start_time": "2020-08-07T12:26:37.976405Z"
    }
   },
   "outputs": [
    {
     "data": {
      "text/plain": [
       "(0    608\n",
       " 1    209\n",
       " 2     28\n",
       " 3     16\n",
       " 4     18\n",
       " 5      5\n",
       " 8      7\n",
       " Name: SibSp, dtype: int64,\n",
       " 0    678\n",
       " 1    118\n",
       " 2     80\n",
       " 3      5\n",
       " 4      4\n",
       " 5      5\n",
       " 6      1\n",
       " Name: Parch, dtype: int64)"
      ]
     },
     "execution_count": 14,
     "metadata": {},
     "output_type": "execute_result"
    }
   ],
   "source": [
    "train.SibSp.value_counts().sort_index(), train.Parch.value_counts().sort_index()"
   ]
  },
  {
   "cell_type": "code",
   "execution_count": 15,
   "metadata": {
    "ExecuteTime": {
     "end_time": "2020-08-07T12:26:38.738178Z",
     "start_time": "2020-08-07T12:26:38.709004Z"
    }
   },
   "outputs": [
    {
     "data": {
      "text/html": [
       "<div>\n",
       "<style scoped>\n",
       "    .dataframe tbody tr th:only-of-type {\n",
       "        vertical-align: middle;\n",
       "    }\n",
       "\n",
       "    .dataframe tbody tr th {\n",
       "        vertical-align: top;\n",
       "    }\n",
       "\n",
       "    .dataframe thead th {\n",
       "        text-align: right;\n",
       "    }\n",
       "</style>\n",
       "<table border=\"1\" class=\"dataframe\">\n",
       "  <thead>\n",
       "    <tr style=\"text-align: right;\">\n",
       "      <th>SibSp</th>\n",
       "      <th>0</th>\n",
       "      <th>1</th>\n",
       "      <th>2</th>\n",
       "      <th>3</th>\n",
       "      <th>4</th>\n",
       "      <th>5</th>\n",
       "      <th>8</th>\n",
       "    </tr>\n",
       "    <tr>\n",
       "      <th>Survived</th>\n",
       "      <th></th>\n",
       "      <th></th>\n",
       "      <th></th>\n",
       "      <th></th>\n",
       "      <th></th>\n",
       "      <th></th>\n",
       "      <th></th>\n",
       "    </tr>\n",
       "  </thead>\n",
       "  <tbody>\n",
       "    <tr>\n",
       "      <th>0</th>\n",
       "      <td>398</td>\n",
       "      <td>97</td>\n",
       "      <td>15</td>\n",
       "      <td>12</td>\n",
       "      <td>15</td>\n",
       "      <td>5</td>\n",
       "      <td>7</td>\n",
       "    </tr>\n",
       "    <tr>\n",
       "      <th>1</th>\n",
       "      <td>210</td>\n",
       "      <td>112</td>\n",
       "      <td>13</td>\n",
       "      <td>4</td>\n",
       "      <td>3</td>\n",
       "      <td>0</td>\n",
       "      <td>0</td>\n",
       "    </tr>\n",
       "  </tbody>\n",
       "</table>\n",
       "</div>"
      ],
      "text/plain": [
       "SibSp       0    1   2   3   4  5  8\n",
       "Survived                            \n",
       "0         398   97  15  12  15  5  7\n",
       "1         210  112  13   4   3  0  0"
      ]
     },
     "execution_count": 15,
     "metadata": {},
     "output_type": "execute_result"
    }
   ],
   "source": [
    "pd.crosstab(train.Survived, train.SibSp) # 0 death, 1 save"
   ]
  },
  {
   "cell_type": "code",
   "execution_count": 16,
   "metadata": {
    "ExecuteTime": {
     "end_time": "2020-08-07T12:26:40.146464Z",
     "start_time": "2020-08-07T12:26:40.112525Z"
    }
   },
   "outputs": [
    {
     "data": {
      "text/html": [
       "<div>\n",
       "<style scoped>\n",
       "    .dataframe tbody tr th:only-of-type {\n",
       "        vertical-align: middle;\n",
       "    }\n",
       "\n",
       "    .dataframe tbody tr th {\n",
       "        vertical-align: top;\n",
       "    }\n",
       "\n",
       "    .dataframe thead th {\n",
       "        text-align: right;\n",
       "    }\n",
       "</style>\n",
       "<table border=\"1\" class=\"dataframe\">\n",
       "  <thead>\n",
       "    <tr style=\"text-align: right;\">\n",
       "      <th>Parch</th>\n",
       "      <th>0</th>\n",
       "      <th>1</th>\n",
       "      <th>2</th>\n",
       "      <th>3</th>\n",
       "      <th>4</th>\n",
       "      <th>5</th>\n",
       "      <th>6</th>\n",
       "    </tr>\n",
       "    <tr>\n",
       "      <th>Survived</th>\n",
       "      <th></th>\n",
       "      <th></th>\n",
       "      <th></th>\n",
       "      <th></th>\n",
       "      <th></th>\n",
       "      <th></th>\n",
       "      <th></th>\n",
       "    </tr>\n",
       "  </thead>\n",
       "  <tbody>\n",
       "    <tr>\n",
       "      <th>0</th>\n",
       "      <td>445</td>\n",
       "      <td>53</td>\n",
       "      <td>40</td>\n",
       "      <td>2</td>\n",
       "      <td>4</td>\n",
       "      <td>4</td>\n",
       "      <td>1</td>\n",
       "    </tr>\n",
       "    <tr>\n",
       "      <th>1</th>\n",
       "      <td>233</td>\n",
       "      <td>65</td>\n",
       "      <td>40</td>\n",
       "      <td>3</td>\n",
       "      <td>0</td>\n",
       "      <td>1</td>\n",
       "      <td>0</td>\n",
       "    </tr>\n",
       "  </tbody>\n",
       "</table>\n",
       "</div>"
      ],
      "text/plain": [
       "Parch       0   1   2  3  4  5  6\n",
       "Survived                         \n",
       "0         445  53  40  2  4  4  1\n",
       "1         233  65  40  3  0  1  0"
      ]
     },
     "execution_count": 16,
     "metadata": {},
     "output_type": "execute_result"
    }
   ],
   "source": [
    "pd.crosstab(train.Survived, train.Parch) # 0 death, 1 save"
   ]
  },
  {
   "cell_type": "markdown",
   "metadata": {},
   "source": [
    "It isn't possible to prove this hypotesis: too many people without parents/children are making noise in the data, which is impossible to erase. \n",
    "\n",
    "Let's see the `Ticket`"
   ]
  },
  {
   "cell_type": "code",
   "execution_count": 17,
   "metadata": {
    "ExecuteTime": {
     "end_time": "2020-08-07T12:27:16.293383Z",
     "start_time": "2020-08-07T12:27:16.281643Z"
    }
   },
   "outputs": [
    {
     "data": {
      "text/plain": [
       "1601        7\n",
       "CA. 2343    7\n",
       "347082      7\n",
       "CA 2144     6\n",
       "3101295     6\n",
       "           ..\n",
       "244310      1\n",
       "PP 4348     1\n",
       "330979      1\n",
       "330958      1\n",
       "36967       1\n",
       "Name: Ticket, Length: 681, dtype: int64"
      ]
     },
     "execution_count": 17,
     "metadata": {},
     "output_type": "execute_result"
    }
   ],
   "source": [
    "train.Ticket.value_counts()"
   ]
  },
  {
   "cell_type": "code",
   "execution_count": 18,
   "metadata": {
    "ExecuteTime": {
     "end_time": "2020-08-07T12:27:18.966734Z",
     "start_time": "2020-08-07T12:27:18.961397Z"
    }
   },
   "outputs": [
    {
     "data": {
      "text/plain": [
       "681"
      ]
     },
     "execution_count": 18,
     "metadata": {},
     "output_type": "execute_result"
    }
   ],
   "source": [
    "# How many ticket do I have?\n",
    "len(train.Ticket.unique())"
   ]
  },
  {
   "cell_type": "markdown",
   "metadata": {},
   "source": [
    "Some people shared the same ticket, so maybe they were saved together. It's a variable to take into account. \n",
    "\n",
    "We focus now on `Fare`"
   ]
  },
  {
   "cell_type": "code",
   "execution_count": 19,
   "metadata": {
    "ExecuteTime": {
     "end_time": "2020-08-07T12:27:25.173356Z",
     "start_time": "2020-08-07T12:27:24.992775Z"
    }
   },
   "outputs": [
    {
     "data": {
      "image/png": "[encoded data removed]",
      "text/plain": [
       "<Figure size 432x288 with 1 Axes>"
      ]
     },
     "metadata": {
      "needs_background": "light"
     },
     "output_type": "display_data"
    }
   ],
   "source": [
    "train.Fare[train.Survived == 1].plot.hist();"
   ]
  },
  {
   "cell_type": "code",
   "execution_count": 20,
   "metadata": {
    "ExecuteTime": {
     "end_time": "2020-08-07T12:27:26.654202Z",
     "start_time": "2020-08-07T12:27:26.465172Z"
    }
   },
   "outputs": [
    {
     "data": {
      "image/png": "[encoded data removed]",
      "text/plain": [
       "<Figure size 432x288 with 1 Axes>"
      ]
     },
     "metadata": {
      "needs_background": "light"
     },
     "output_type": "display_data"
    }
   ],
   "source": [
    "train.Fare[train.Survived == 0].plot.hist();"
   ]
  },
  {
   "cell_type": "code",
   "execution_count": 21,
   "metadata": {
    "ExecuteTime": {
     "end_time": "2020-08-07T12:27:28.199012Z",
     "start_time": "2020-08-07T12:27:28.193016Z"
    }
   },
   "outputs": [
    {
     "data": {
      "text/plain": [
       "148"
      ]
     },
     "execution_count": 21,
     "metadata": {},
     "output_type": "execute_result"
    }
   ],
   "source": [
    "len(train.Cabin.unique())"
   ]
  },
  {
   "cell_type": "markdown",
   "metadata": {},
   "source": [
    "We can't exclude it, however at the end we'll see how important it is for the predictions.\n",
    "\n",
    "Regarding `Cabin` we have only 200 record over 891 which are different from `NaN`, where only 148 are different, i.e. there are very small group that can be formed, so not important correlation. For this reason, I suppose the best idea is to remove it for the training. At the end of the day, I changed my mind and I used more data possible. \n",
    "\n",
    "The last attribute is `Embarked`, where it is not possible to see any important correlation. "
   ]
  },
  {
   "cell_type": "code",
   "execution_count": 22,
   "metadata": {
    "ExecuteTime": {
     "end_time": "2020-08-07T12:29:25.923169Z",
     "start_time": "2020-08-07T12:29:25.721424Z"
    }
   },
   "outputs": [
    {
     "data": {
      "image/png": "[encoded data removed]",
      "text/plain": [
       "<Figure size 720x432 with 1 Axes>"
      ]
     },
     "metadata": {
      "needs_background": "light"
     },
     "output_type": "display_data"
    }
   ],
   "source": [
    "pd.crosstab(train.Embarked, train.Survived).plot(kind=\"bar\", figsize=(10,6), color=[\"salmon\", \"lightblue\"])\n",
    "plt.legend([\"Death\", \"Survived\"])\n",
    "plt.title(\"Survived per Departure Port\")\n",
    "plt.xlabel(\"C = Cherbourg, Q = Queenstown, S = Southampton\")\n",
    "plt.ylabel(\"Amount\")\n",
    "plt.xticks(rotation=0);"
   ]
  },
  {
   "cell_type": "markdown",
   "metadata": {},
   "source": [
    "## Data Preprocessing\n",
    "\n",
    "I need to create a function that prepares my dataset in a way that is useful: I have to eliminate `NaN` and make everything numerical. "
   ]
  },
  {
   "cell_type": "code",
   "execution_count": 23,
   "metadata": {
    "ExecuteTime": {
     "end_time": "2020-08-07T12:29:52.806468Z",
     "start_time": "2020-08-07T12:29:52.801220Z"
    }
   },
   "outputs": [],
   "source": [
    "X = train.drop(\"Survived\", axis=1)\n",
    "y = train.Survived"
   ]
  },
  {
   "cell_type": "code",
   "execution_count": 24,
   "metadata": {
    "ExecuteTime": {
     "end_time": "2020-08-07T12:29:56.975175Z",
     "start_time": "2020-08-07T12:29:56.887189Z"
    }
   },
   "outputs": [],
   "source": [
    "from sklearn.preprocessing import OneHotEncoder\n",
    "from sklearn.compose import ColumnTransformer"
   ]
  },
  {
   "cell_type": "code",
   "execution_count": 25,
   "metadata": {
    "ExecuteTime": {
     "end_time": "2020-08-07T12:32:33.901201Z",
     "start_time": "2020-08-07T12:32:33.894415Z"
    }
   },
   "outputs": [],
   "source": [
    "def cleaning_dataset(X):\n",
    "    \"\"\"\n",
    "    This function prepare the dataset without considering the target. \n",
    "    \"\"\"\n",
    "    # If the dataset is Test Data\n",
    "    print(\"I prepare the dataset\")\n",
    "    # elimino Cabin e Name\n",
    "    X = X.drop(\"Name\", axis=1)\n",
    "    X = X.drop(\"Ticket\", axis=1)\n",
    "    X = X.drop(\"Cabin\", axis=1)\n",
    "    # Fill NaN\n",
    "    # X.Cabin.fillna(\"Missing\", inplace=True)\n",
    "    X.Fare.fillna(0, inplace=True)\n",
    "    X[\"Age\"].fillna(X.Age.median(), inplace=True)\n",
    "    X.Embarked.fillna(\"S\", inplace=True)\n",
    "    # everything is numerical\n",
    "    categorical_features = [\"Sex\", \"Embarked\"] # \"Ticket\", \"Cabin\", \n",
    "    one_hot = OneHotEncoder()\n",
    "    transformer = ColumnTransformer([(\"one_hot\", one_hot, categorical_features)], remainder=\"passthrough\")\n",
    "    transformed_X = transformer.fit_transform(X)\n",
    "    print(\"Done\")\n",
    "    return transformed_X"
   ]
  },
  {
   "cell_type": "code",
   "execution_count": 26,
   "metadata": {
    "ExecuteTime": {
     "end_time": "2020-08-07T12:33:04.784398Z",
     "start_time": "2020-08-07T12:33:04.765253Z"
    }
   },
   "outputs": [
    {
     "name": "stdout",
     "output_type": "stream",
     "text": [
      "I prepare the dataset\n",
      "Done\n"
     ]
    }
   ],
   "source": [
    "X = train.drop(\"Survived\", axis=1)\n",
    "X = cleaning_dataset(X)"
   ]
  },
  {
   "cell_type": "markdown",
   "metadata": {},
   "source": [
    "# Model "
   ]
  },
  {
   "cell_type": "code",
   "execution_count": 27,
   "metadata": {
    "ExecuteTime": {
     "end_time": "2020-08-07T12:33:22.639562Z",
     "start_time": "2020-08-07T12:33:22.277221Z"
    }
   },
   "outputs": [],
   "source": [
    "# Model from Scikit-Learn\n",
    "from sklearn.linear_model import LogisticRegression\n",
    "from sklearn.neighbors import KNeighborsClassifier\n",
    "from sklearn.ensemble import RandomForestClassifier\n",
    "\n",
    "from sklearn.model_selection import RandomizedSearchCV, GridSearchCV\n",
    "from sklearn.metrics import confusion_matrix, classification_report\n",
    "from sklearn.metrics import precision_score, recall_score, f1_score\n",
    "from sklearn.metrics import plot_roc_curve\n",
    "\n",
    "from sklearn.ensemble import RandomForestClassifier\n",
    "from sklearn.model_selection import train_test_split, cross_val_score"
   ]
  },
  {
   "cell_type": "code",
   "execution_count": 29,
   "metadata": {
    "ExecuteTime": {
     "end_time": "2020-08-07T12:34:18.883451Z",
     "start_time": "2020-08-07T12:34:18.878794Z"
    }
   },
   "outputs": [],
   "source": [
    "np.random.seed(42)\n",
    "\n",
    "X_train, X_test, y_train, y_test = train_test_split(X, y, test_size=0.2)"
   ]
  },
  {
   "cell_type": "code",
   "execution_count": 30,
   "metadata": {
    "ExecuteTime": {
     "end_time": "2020-08-07T12:34:19.646577Z",
     "start_time": "2020-08-07T12:34:19.637044Z"
    }
   },
   "outputs": [],
   "source": [
    "# To avoid rewrite each time the code, we'll put it into a dictionary\n",
    "models = {\" Logistic Regression\":LogisticRegression(max_iter=10000), \n",
    "          \"KNN\":KNeighborsClassifier(),\n",
    "          \"Random Forest\":RandomForestClassifier()}\n",
    "\n",
    "# Create a function to fit and score models\n",
    "def fit_and_score(models, X_train, X_test, y_train, y_test):\n",
    "    \"\"\"\n",
    "    Fits and evaluates given machine learning models.\n",
    "    models: a dictionary of different scikit-learn models, \n",
    "    etc...\n",
    "    it returns a dictionary with models and accuracy \n",
    "    \"\"\"\n",
    "    # Set random seed\n",
    "    np.random.seed(42)\n",
    "    # Make dictionary to keep model score\n",
    "    model_scores = {}\n",
    "    # Loop through models\n",
    "    for name, model in models.items(): \n",
    "        # name = key, models = value\n",
    "        # Fit the model to the data\n",
    "        model.fit(X_train, y_train)\n",
    "        # Evaluate the model and append the score\n",
    "        model_scores[name] = model.score(X_test, y_test)\n",
    "    return model_scores"
   ]
  },
  {
   "cell_type": "code",
   "execution_count": 31,
   "metadata": {
    "ExecuteTime": {
     "end_time": "2020-08-07T12:34:21.612017Z",
     "start_time": "2020-08-07T12:34:21.117844Z"
    }
   },
   "outputs": [
    {
     "data": {
      "text/plain": [
       "{' Logistic Regression': 0.7988826815642458,\n",
       " 'KNN': 0.659217877094972,\n",
       " 'Random Forest': 0.8324022346368715}"
      ]
     },
     "execution_count": 31,
     "metadata": {},
     "output_type": "execute_result"
    }
   ],
   "source": [
    "model_scores = fit_and_score(models=models, \n",
    "                             X_train=X_train, \n",
    "                             X_test=X_test, \n",
    "                             y_train=y_train, \n",
    "                             y_test=y_test)\n",
    "\n",
    "model_scores"
   ]
  },
  {
   "cell_type": "code",
   "execution_count": 32,
   "metadata": {
    "ExecuteTime": {
     "end_time": "2020-08-07T12:34:28.531551Z",
     "start_time": "2020-08-07T12:34:28.376156Z"
    }
   },
   "outputs": [
    {
     "data": {
      "image/png": "[encoded data removed]",
      "text/plain": [
       "<Figure size 432x288 with 1 Axes>"
      ]
     },
     "metadata": {
      "needs_background": "light"
     },
     "output_type": "display_data"
    }
   ],
   "source": [
    "model_compare = pd.DataFrame(model_scores, index=[\"accuracy\"])\n",
    "model_compare.T.plot.bar();"
   ]
  },
  {
   "cell_type": "markdown",
   "metadata": {},
   "source": [
    "## Maybe KNN doesn't have the perfect tune"
   ]
  },
  {
   "cell_type": "code",
   "execution_count": 33,
   "metadata": {
    "ExecuteTime": {
     "end_time": "2020-08-07T12:34:33.224144Z",
     "start_time": "2020-08-07T12:34:32.581000Z"
    }
   },
   "outputs": [],
   "source": [
    "# Let's tune KNN \n",
    "\n",
    "train_scores = []\n",
    "test_scores = []\n",
    "\n",
    "# create a list of n_neighbors\n",
    "neighbors = range(1, 21)\n",
    "# Setup KNN instance\n",
    "knn = KNeighborsClassifier()\n",
    "for i in neighbors:\n",
    "    knn.set_params(n_neighbors=i)\n",
    "    # fit the algorithm\n",
    "    knn.fit(X_train, y_train)\n",
    "    # score train and test\n",
    "    train_scores.append(knn.score(X_train, y_train))\n",
    "    test_scores.append(knn.score(X_test, y_test))"
   ]
  },
  {
   "cell_type": "code",
   "execution_count": 34,
   "metadata": {
    "ExecuteTime": {
     "end_time": "2020-08-07T12:34:33.843155Z",
     "start_time": "2020-08-07T12:34:33.455798Z"
    }
   },
   "outputs": [
    {
     "name": "stdout",
     "output_type": "stream",
     "text": [
      "Best n_neighbors is 19\n",
      "Maximum score obtained on the test data is 68.72% \n"
     ]
    },
    {
     "data": {
      "image/png": "[encoded data removed]",
      "text/plain": [
       "<Figure size 432x288 with 1 Axes>"
      ]
     },
     "metadata": {
      "needs_background": "light"
     },
     "output_type": "display_data"
    }
   ],
   "source": [
    "plt.plot(neighbors, train_scores, label=\"Train Scores\")\n",
    "plt.plot(neighbors, test_scores, label=\"Test scores\")\n",
    "plt.xticks(np.arange(1, 21, 1))\n",
    "plt.xlabel(\"Neighbors\")\n",
    "plt.ylabel(\"Scores\")\n",
    "plt.legend([\"Train\", \"Test\"]);\n",
    "\n",
    "print(\"Best n_neighbors is \" + str(np.argmax(test_scores) + 1)) # perché partiamo da 1\n",
    "print(f\"Maximum score obtained on the test data is {max(test_scores)*100:.2f}% \")"
   ]
  },
  {
   "cell_type": "markdown",
   "metadata": {},
   "source": [
    "KNN is not the best choiche for this dataset. Let's study better the others."
   ]
  },
  {
   "cell_type": "markdown",
   "metadata": {},
   "source": [
    "## RandomizedSearchCV \n",
    "\n",
    "### Logistic Regression"
   ]
  },
  {
   "cell_type": "code",
   "execution_count": 35,
   "metadata": {
    "ExecuteTime": {
     "end_time": "2020-08-07T12:34:46.546835Z",
     "start_time": "2020-08-07T12:34:46.540826Z"
    }
   },
   "outputs": [],
   "source": [
    "# Create an hyperparameter grid Logistic Regression\n",
    "log_reg_grid = {\"C\":np.logspace(-4, 4, 20), \n",
    "                \"penalty\" : ['l1', 'l2'],\n",
    "                \"solver\": ['saga', 'liblinear']}\n",
    "\n",
    "# Create an hyperparameter grid for Random Forest\n",
    "rf_grid = {\"n_estimators\":np.arange(10, 1000, 50), \n",
    "           \"max_depth\":[None, 3, 5, 10], \n",
    "           \"min_samples_split\":np.arange(2, 20, 2), \n",
    "           \"min_samples_leaf\":np.arange(1, 20, 2)}"
   ]
  },
  {
   "cell_type": "code",
   "execution_count": 36,
   "metadata": {
    "ExecuteTime": {
     "end_time": "2020-08-07T12:35:10.679937Z",
     "start_time": "2020-08-07T12:34:47.228112Z"
    }
   },
   "outputs": [
    {
     "name": "stdout",
     "output_type": "stream",
     "text": [
      "Fitting 5 folds for each of 20 candidates, totalling 100 fits\n"
     ]
    },
    {
     "name": "stderr",
     "output_type": "stream",
     "text": [
      "[Parallel(n_jobs=1)]: Using backend SequentialBackend with 1 concurrent workers.\n",
      "[Parallel(n_jobs=1)]: Done 100 out of 100 | elapsed:   23.4s finished\n"
     ]
    },
    {
     "data": {
      "text/plain": [
       "RandomizedSearchCV(cv=5, estimator=LogisticRegression(max_iter=10000),\n",
       "                   n_iter=20,\n",
       "                   param_distributions={'C': array([1.00000000e-04, 2.63665090e-04, 6.95192796e-04, 1.83298071e-03,\n",
       "       4.83293024e-03, 1.27427499e-02, 3.35981829e-02, 8.85866790e-02,\n",
       "       2.33572147e-01, 6.15848211e-01, 1.62377674e+00, 4.28133240e+00,\n",
       "       1.12883789e+01, 2.97635144e+01, 7.84759970e+01, 2.06913808e+02,\n",
       "       5.45559478e+02, 1.43844989e+03, 3.79269019e+03, 1.00000000e+04]),\n",
       "                                        'penalty': ['l1', 'l2'],\n",
       "                                        'solver': ['saga', 'liblinear']},\n",
       "                   verbose=True)"
      ]
     },
     "execution_count": 36,
     "metadata": {},
     "output_type": "execute_result"
    }
   ],
   "source": [
    "# Let's use it\n",
    "np.random.seed(42)\n",
    "# Setup random parameters \n",
    "rs_log_reg = RandomizedSearchCV(LogisticRegression(max_iter=10000), \n",
    "                                param_distributions=log_reg_grid, \n",
    "                                cv=5, \n",
    "                                n_iter=20, \n",
    "                                verbose=True)\n",
    "# fit random hyperparameters\n",
    "rs_log_reg.fit(X_train, y_train)"
   ]
  },
  {
   "cell_type": "code",
   "execution_count": 37,
   "metadata": {
    "ExecuteTime": {
     "end_time": "2020-08-07T12:35:44.098338Z",
     "start_time": "2020-08-07T12:35:44.092726Z"
    }
   },
   "outputs": [
    {
     "data": {
      "text/plain": [
       "{'solver': 'liblinear', 'penalty': 'l1', 'C': 0.23357214690901212}"
      ]
     },
     "execution_count": 37,
     "metadata": {},
     "output_type": "execute_result"
    }
   ],
   "source": [
    "rs_log_reg.best_params_"
   ]
  },
  {
   "cell_type": "code",
   "execution_count": 38,
   "metadata": {
    "ExecuteTime": {
     "end_time": "2020-08-07T12:35:44.867787Z",
     "start_time": "2020-08-07T12:35:44.861420Z"
    }
   },
   "outputs": [
    {
     "data": {
      "text/plain": [
       "0.7821229050279329"
      ]
     },
     "execution_count": 38,
     "metadata": {},
     "output_type": "execute_result"
    }
   ],
   "source": [
    "rs_log_reg.score(X_test, y_test)"
   ]
  },
  {
   "cell_type": "markdown",
   "metadata": {},
   "source": [
    "### Random Forest"
   ]
  },
  {
   "cell_type": "code",
   "execution_count": 39,
   "metadata": {
    "ExecuteTime": {
     "end_time": "2020-08-07T12:37:44.921097Z",
     "start_time": "2020-08-07T12:36:25.623013Z"
    }
   },
   "outputs": [
    {
     "name": "stdout",
     "output_type": "stream",
     "text": [
      "Fitting 5 folds for each of 20 candidates, totalling 100 fits\n"
     ]
    },
    {
     "name": "stderr",
     "output_type": "stream",
     "text": [
      "[Parallel(n_jobs=1)]: Using backend SequentialBackend with 1 concurrent workers.\n",
      "[Parallel(n_jobs=1)]: Done 100 out of 100 | elapsed:  1.3min finished\n"
     ]
    },
    {
     "data": {
      "text/plain": [
       "RandomizedSearchCV(cv=5, estimator=RandomForestClassifier(), n_iter=20,\n",
       "                   param_distributions={'max_depth': [None, 3, 5, 10],\n",
       "                                        'min_samples_leaf': array([ 1,  3,  5,  7,  9, 11, 13, 15, 17, 19]),\n",
       "                                        'min_samples_split': array([ 2,  4,  6,  8, 10, 12, 14, 16, 18]),\n",
       "                                        'n_estimators': array([ 10,  60, 110, 160, 210, 260, 310, 360, 410, 460, 510, 560, 610,\n",
       "       660, 710, 760, 810, 860, 910, 960])},\n",
       "                   verbose=True)"
      ]
     },
     "execution_count": 39,
     "metadata": {},
     "output_type": "execute_result"
    }
   ],
   "source": [
    "# Let's use it\n",
    "np.random.seed(42)\n",
    "# Setup random parameters \n",
    "rs_rf = RandomizedSearchCV(RandomForestClassifier(), \n",
    "                           param_distributions=rf_grid, \n",
    "                           cv=5, \n",
    "                           n_iter=20, \n",
    "                           verbose=True)\n",
    "# fit random hyperparameters\n",
    "rs_rf.fit(X_train, y_train)"
   ]
  },
  {
   "cell_type": "code",
   "execution_count": 40,
   "metadata": {
    "ExecuteTime": {
     "end_time": "2020-08-07T12:38:31.807549Z",
     "start_time": "2020-08-07T12:38:31.801669Z"
    }
   },
   "outputs": [
    {
     "data": {
      "text/plain": [
       "{'n_estimators': 910,\n",
       " 'min_samples_split': 18,\n",
       " 'min_samples_leaf': 1,\n",
       " 'max_depth': 10}"
      ]
     },
     "execution_count": 40,
     "metadata": {},
     "output_type": "execute_result"
    }
   ],
   "source": [
    "rs_rf.best_params_"
   ]
  },
  {
   "cell_type": "code",
   "execution_count": 41,
   "metadata": {
    "ExecuteTime": {
     "end_time": "2020-08-07T12:38:37.656549Z",
     "start_time": "2020-08-07T12:38:37.528946Z"
    }
   },
   "outputs": [
    {
     "data": {
      "text/plain": [
       "0.8100558659217877"
      ]
     },
     "execution_count": 41,
     "metadata": {},
     "output_type": "execute_result"
    }
   ],
   "source": [
    "rs_rf.score(X_test, y_test)"
   ]
  },
  {
   "cell_type": "markdown",
   "metadata": {},
   "source": [
    "`LogisticRegression()` has not defeated `RandomForestClassifier()`. With this in mind, I'll try to find the best parameter for it using `GridSearchCV`.\n",
    "\n",
    "## GridSearchCV"
   ]
  },
  {
   "cell_type": "code",
   "execution_count": 42,
   "metadata": {
    "ExecuteTime": {
     "end_time": "2020-08-07T13:24:15.888674Z",
     "start_time": "2020-08-07T12:40:17.081159Z"
    },
    "scrolled": true
   },
   "outputs": [
    {
     "name": "stdout",
     "output_type": "stream",
     "text": [
      "Fitting 5 folds for each of 234 candidates, totalling 1170 fits\n"
     ]
    },
    {
     "name": "stderr",
     "output_type": "stream",
     "text": [
      "[Parallel(n_jobs=1)]: Using backend SequentialBackend with 1 concurrent workers.\n",
      "[Parallel(n_jobs=1)]: Done 1170 out of 1170 | elapsed: 44.0min finished\n"
     ]
    },
    {
     "data": {
      "text/plain": [
       "GridSearchCV(cv=5, estimator=RandomForestClassifier(),\n",
       "             param_grid={'max_depth': [None, 5, 10],\n",
       "                         'min_samples_leaf': array([1, 3]),\n",
       "                         'min_samples_split': array([16, 18, 20]),\n",
       "                         'n_estimators': array([900, 908, 916, 924, 932, 940, 948, 956, 964, 972, 980, 988, 996])},\n",
       "             verbose=True)"
      ]
     },
     "execution_count": 42,
     "metadata": {},
     "output_type": "execute_result"
    }
   ],
   "source": [
    "# Create an hyperparameter grid Logistic Regression\n",
    "# log_reg_grid = {\"C\":np.logspace(-4, 4, 30), \"solver\": ['liblinear', 'saga']}\n",
    "\n",
    "# Create an hyperparameter grid for Random Forest\n",
    "rf_grid = {\"n_estimators\":np.arange(900, 1000, 8), \n",
    "           \"max_depth\":[None, 5, 10], \n",
    "           \"min_samples_split\":np.arange(16, 22, 2), \n",
    "           \"min_samples_leaf\":np.arange(1, 4, 2)}\n",
    "\n",
    "\n",
    "# setup GridSearch for logistic regression\n",
    "gs_rf_reg = GridSearchCV(RandomForestClassifier(), # LogisticRegression(max_iter=10000), \n",
    "                          param_grid=rf_grid, #log_reg_grid, \n",
    "                          cv=5, \n",
    "                          verbose=True)\n",
    "\n",
    "gs_rf_reg.fit(X_train, y_train)"
   ]
  },
  {
   "cell_type": "code",
   "execution_count": 43,
   "metadata": {
    "ExecuteTime": {
     "end_time": "2020-08-07T13:24:25.023945Z",
     "start_time": "2020-08-07T13:24:25.017132Z"
    }
   },
   "outputs": [
    {
     "data": {
      "text/plain": [
       "{'max_depth': 10,\n",
       " 'min_samples_leaf': 1,\n",
       " 'min_samples_split': 20,\n",
       " 'n_estimators': 916}"
      ]
     },
     "execution_count": 43,
     "metadata": {},
     "output_type": "execute_result"
    }
   ],
   "source": [
    "# Check the best hyperparameters\n",
    "gs_rf_reg.best_params_"
   ]
  },
  {
   "cell_type": "code",
   "execution_count": 44,
   "metadata": {
    "ExecuteTime": {
     "end_time": "2020-08-07T13:24:29.056567Z",
     "start_time": "2020-08-07T13:24:28.929162Z"
    }
   },
   "outputs": [
    {
     "data": {
      "text/plain": [
       "0.8156424581005587"
      ]
     },
     "execution_count": 44,
     "metadata": {},
     "output_type": "execute_result"
    }
   ],
   "source": [
    "gs_rf_reg.score(X_test, y_test)"
   ]
  },
  {
   "cell_type": "markdown",
   "metadata": {},
   "source": [
    "# Evaluating our tuned machine learning classifier, beyond accuracy \n",
    "\n",
    "* ROC Curve and AUC score \n",
    "* Confusion Matrix\n",
    "* Classification Report\n",
    "* Precision\n",
    "* Recall\n",
    "* F1-score\n",
    "\n",
    "... using Cross-validation whenever is possible\n",
    "\n",
    "To make comparison and evaluate our trained model, first we have to make prediction"
   ]
  },
  {
   "cell_type": "code",
   "execution_count": 53,
   "metadata": {
    "ExecuteTime": {
     "end_time": "2020-08-07T13:25:37.578370Z",
     "start_time": "2020-08-07T13:25:37.453781Z"
    }
   },
   "outputs": [],
   "source": [
    "# Make Prediction\n",
    "y_preds = gs_rf_reg.predict(X_test)"
   ]
  },
  {
   "cell_type": "code",
   "execution_count": 46,
   "metadata": {
    "ExecuteTime": {
     "end_time": "2020-08-07T13:24:40.288412Z",
     "start_time": "2020-08-07T13:24:40.001685Z"
    }
   },
   "outputs": [
    {
     "data": {
      "image/png": "[encoded data removed]",
      "text/plain": [
       "<Figure size 432x288 with 1 Axes>"
      ]
     },
     "metadata": {
      "needs_background": "light"
     },
     "output_type": "display_data"
    }
   ],
   "source": [
    "# Plot ROC Curve and calculate AUC metrics\n",
    "plot_roc_curve(gs_rf_reg, X_test, y_test);"
   ]
  },
  {
   "cell_type": "code",
   "execution_count": 54,
   "metadata": {
    "ExecuteTime": {
     "end_time": "2020-08-07T13:25:42.830934Z",
     "start_time": "2020-08-07T13:25:42.708709Z"
    }
   },
   "outputs": [
    {
     "data": {
      "image/png": "[encoded data removed]",
      "text/plain": [
       "<Figure size 360x360 with 1 Axes>"
      ]
     },
     "metadata": {},
     "output_type": "display_data"
    }
   ],
   "source": [
    "sns.set(font_scale=1.5)\n",
    "\n",
    "def plot_conf_mat(y_test, y_preds):\n",
    "    \"\"\"\n",
    "    Plots a nice looking confusion matrix using Seaborn's Heatmap()\n",
    "    \"\"\"\n",
    "    fig, ax = plt.subplots(figsize=(5, 5))\n",
    "    ax = sns.heatmap(confusion_matrix(y_test, y_preds), \n",
    "                     annot=True,\n",
    "                     cmap='Blues', \n",
    "                     fmt='g',\n",
    "                     cbar=False)\n",
    "    plt.xlabel(\"True labels\")\n",
    "    plt.ylabel(\"Predicted Labels\")\n",
    "    \n",
    "plot_conf_mat(y_test, y_preds)"
   ]
  },
  {
   "cell_type": "code",
   "execution_count": 55,
   "metadata": {
    "ExecuteTime": {
     "end_time": "2020-08-07T13:28:01.205568Z",
     "start_time": "2020-08-07T13:28:01.194640Z"
    }
   },
   "outputs": [
    {
     "name": "stdout",
     "output_type": "stream",
     "text": [
      "              precision    recall  f1-score   support\n",
      "\n",
      "           0       0.81      0.90      0.85       105\n",
      "           1       0.83      0.70      0.76        74\n",
      "\n",
      "    accuracy                           0.82       179\n",
      "   macro avg       0.82      0.80      0.80       179\n",
      "weighted avg       0.82      0.82      0.81       179\n",
      "\n"
     ]
    }
   ],
   "source": [
    "print(classification_report(y_test, y_preds))"
   ]
  },
  {
   "cell_type": "markdown",
   "metadata": {},
   "source": [
    "okay, but we don't have cross validation!\n",
    "\n",
    "## Calculate evaluation metrics using cross-validation\n",
    "\n",
    "We're going to calculate precision, recall and f1-score with cross validation, by `cross_val_score()`"
   ]
  },
  {
   "cell_type": "code",
   "execution_count": 56,
   "metadata": {
    "ExecuteTime": {
     "end_time": "2020-08-07T13:28:04.383953Z",
     "start_time": "2020-08-07T13:28:04.378405Z"
    }
   },
   "outputs": [
    {
     "data": {
      "text/plain": [
       "{'max_depth': 10,\n",
       " 'min_samples_leaf': 1,\n",
       " 'min_samples_split': 20,\n",
       " 'n_estimators': 916}"
      ]
     },
     "execution_count": 56,
     "metadata": {},
     "output_type": "execute_result"
    }
   ],
   "source": [
    "# check best hyperparams\n",
    "gs_rf_reg.best_params_"
   ]
  },
  {
   "cell_type": "code",
   "execution_count": 57,
   "metadata": {
    "ExecuteTime": {
     "end_time": "2020-08-07T13:28:08.546183Z",
     "start_time": "2020-08-07T13:28:08.003368Z"
    }
   },
   "outputs": [
    {
     "data": {
      "text/plain": [
       "RandomForestClassifier(min_samples_split=6, n_estimators=298)"
      ]
     },
     "execution_count": 57,
     "metadata": {},
     "output_type": "execute_result"
    }
   ],
   "source": [
    "# create a new classifier \n",
    "clf = RandomForestClassifier(max_depth=None, \n",
    "                             min_samples_leaf=1,\n",
    "                             min_samples_split=6,\n",
    "                             n_estimators=298)\n",
    "clf.fit(X_train, y_train)"
   ]
  },
  {
   "cell_type": "code",
   "execution_count": 58,
   "metadata": {
    "ExecuteTime": {
     "end_time": "2020-08-07T13:28:13.059374Z",
     "start_time": "2020-08-07T13:28:10.306655Z"
    }
   },
   "outputs": [
    {
     "data": {
      "text/plain": [
       "0.809277509258678"
      ]
     },
     "execution_count": 58,
     "metadata": {},
     "output_type": "execute_result"
    }
   ],
   "source": [
    "# Cross-validate accuracy \n",
    "cv_acc = cross_val_score(clf, X, y, cv=5, scoring=\"accuracy\")\n",
    "cv_acc = np.mean(cv_acc)\n",
    "cv_acc"
   ]
  },
  {
   "cell_type": "code",
   "execution_count": 59,
   "metadata": {
    "ExecuteTime": {
     "end_time": "2020-08-07T13:28:17.786853Z",
     "start_time": "2020-08-07T13:28:15.040218Z"
    }
   },
   "outputs": [
    {
     "data": {
      "text/plain": [
       "0.8227132038376416"
      ]
     },
     "execution_count": 59,
     "metadata": {},
     "output_type": "execute_result"
    }
   ],
   "source": [
    "# Cross-validate precision\n",
    "cv_pre = cross_val_score(clf, X, y, cv=5, scoring=\"precision\")\n",
    "cv_pre = np.mean(cv_pre)\n",
    "cv_pre"
   ]
  },
  {
   "cell_type": "code",
   "execution_count": 60,
   "metadata": {
    "ExecuteTime": {
     "end_time": "2020-08-07T13:28:39.475871Z",
     "start_time": "2020-08-07T13:28:36.747450Z"
    }
   },
   "outputs": [
    {
     "data": {
      "text/plain": [
       "0.6407502131287297"
      ]
     },
     "execution_count": 60,
     "metadata": {},
     "output_type": "execute_result"
    }
   ],
   "source": [
    "# Cross-validate recall\n",
    "cv_rec = cross_val_score(clf, X, y, cv=5, scoring=\"recall\")\n",
    "cv_rec = np.mean(cv_rec)\n",
    "cv_rec"
   ]
  },
  {
   "cell_type": "code",
   "execution_count": 61,
   "metadata": {
    "ExecuteTime": {
     "end_time": "2020-08-07T13:28:43.521546Z",
     "start_time": "2020-08-07T13:28:40.764076Z"
    }
   },
   "outputs": [
    {
     "data": {
      "text/plain": [
       "0.7034898328609164"
      ]
     },
     "execution_count": 61,
     "metadata": {},
     "output_type": "execute_result"
    }
   ],
   "source": [
    "# Cross-validate f1-score\n",
    "cv_f1 = cross_val_score(clf, X, y, cv=5, scoring=\"f1\")\n",
    "cv_f1 = np.mean(cv_f1)\n",
    "cv_f1"
   ]
  },
  {
   "cell_type": "code",
   "execution_count": 62,
   "metadata": {
    "ExecuteTime": {
     "end_time": "2020-08-07T13:28:44.887689Z",
     "start_time": "2020-08-07T13:28:44.732401Z"
    }
   },
   "outputs": [
    {
     "data": {
      "image/png": "[encoded data removed]",
      "text/plain": [
       "<Figure size 432x288 with 1 Axes>"
      ]
     },
     "metadata": {},
     "output_type": "display_data"
    }
   ],
   "source": [
    "# Visualize our metrics\n",
    "cv_metrics = pd.DataFrame({\"Accuracy\":cv_acc, \n",
    "                           \"Precision\":cv_pre, \n",
    "                           \"Recall\":cv_rec, \n",
    "                           \"F1-Score\":cv_f1}, index=[0])\n",
    "cv_metrics.T.plot.bar(title=\"Cross-validated Results\", legend=False);"
   ]
  },
  {
   "cell_type": "markdown",
   "metadata": {},
   "source": [
    "# Save the Model\n",
    "\n"
   ]
  },
  {
   "cell_type": "code",
   "execution_count": 84,
   "metadata": {
    "ExecuteTime": {
     "end_time": "2020-07-17T13:33:18.954576Z",
     "start_time": "2020-07-17T13:33:18.950793Z"
    }
   },
   "outputs": [],
   "source": [
    "import pickle "
   ]
  },
  {
   "cell_type": "code",
   "execution_count": 85,
   "metadata": {
    "ExecuteTime": {
     "end_time": "2020-07-17T13:33:34.783701Z",
     "start_time": "2020-07-17T13:33:34.624451Z"
    }
   },
   "outputs": [],
   "source": [
    "# Save an extisting model to file \n",
    "pickle.dump(clf, open(\"../model/random_forest.pkl\", \"wb\"))"
   ]
  },
  {
   "cell_type": "code",
   "execution_count": 89,
   "metadata": {
    "ExecuteTime": {
     "end_time": "2020-07-17T13:33:45.843232Z",
     "start_time": "2020-07-17T13:33:45.824126Z"
    }
   },
   "outputs": [],
   "source": [
    "# load an extisting model\n",
    "clf = pickle.load(open(\"../model/random_forest.pkl\", \"rb\"))"
   ]
  },
  {
   "cell_type": "code",
   "execution_count": 92,
   "metadata": {
    "ExecuteTime": {
     "end_time": "2020-07-17T13:34:04.212575Z",
     "start_time": "2020-07-17T13:34:04.153144Z"
    }
   },
   "outputs": [
    {
     "data": {
      "text/plain": [
       "0.8385650224215246"
      ]
     },
     "execution_count": 92,
     "metadata": {},
     "output_type": "execute_result"
    }
   ],
   "source": [
    "clf.score(X_test, y_test)"
   ]
  },
  {
   "cell_type": "markdown",
   "metadata": {},
   "source": [
    "# Submission Kaggle\n",
    "\n",
    "## Train Again"
   ]
  },
  {
   "cell_type": "code",
   "execution_count": 63,
   "metadata": {
    "ExecuteTime": {
     "end_time": "2020-08-07T13:29:07.303171Z",
     "start_time": "2020-08-07T13:29:07.284074Z"
    }
   },
   "outputs": [
    {
     "name": "stdout",
     "output_type": "stream",
     "text": [
      "I prepare the dataset\n",
      "Done\n"
     ]
    }
   ],
   "source": [
    "train_2 = train.drop(\"Survived\", axis=1)\n",
    "train_2 = cleaning_dataset(train_2)"
   ]
  },
  {
   "cell_type": "code",
   "execution_count": 64,
   "metadata": {
    "ExecuteTime": {
     "end_time": "2020-08-07T13:29:10.736451Z",
     "start_time": "2020-08-07T13:29:10.164984Z"
    }
   },
   "outputs": [
    {
     "data": {
      "text/plain": [
       "RandomForestClassifier(min_samples_split=6, n_estimators=298)"
      ]
     },
     "execution_count": 64,
     "metadata": {},
     "output_type": "execute_result"
    }
   ],
   "source": [
    "clf = RandomForestClassifier(max_depth=None, \n",
    "                             min_samples_leaf=1,\n",
    "                             min_samples_split=6,\n",
    "                             n_estimators=298)\n",
    "clf.fit(train_2, y)"
   ]
  },
  {
   "cell_type": "code",
   "execution_count": 95,
   "metadata": {
    "ExecuteTime": {
     "end_time": "2020-07-17T13:34:29.333337Z",
     "start_time": "2020-07-17T13:34:29.307382Z"
    }
   },
   "outputs": [
    {
     "name": "stdout",
     "output_type": "stream",
     "text": [
      "<class 'pandas.core.frame.DataFrame'>\n",
      "RangeIndex: 418 entries, 0 to 417\n",
      "Data columns (total 11 columns):\n",
      " #   Column       Non-Null Count  Dtype  \n",
      "---  ------       --------------  -----  \n",
      " 0   PassengerId  418 non-null    int64  \n",
      " 1   Pclass       418 non-null    int64  \n",
      " 2   Name         418 non-null    object \n",
      " 3   Sex          418 non-null    object \n",
      " 4   Age          332 non-null    float64\n",
      " 5   SibSp        418 non-null    int64  \n",
      " 6   Parch        418 non-null    int64  \n",
      " 7   Ticket       418 non-null    object \n",
      " 8   Fare         417 non-null    float64\n",
      " 9   Cabin        91 non-null     object \n",
      " 10  Embarked     418 non-null    object \n",
      "dtypes: float64(2), int64(4), object(5)\n",
      "memory usage: 36.0+ KB\n"
     ]
    }
   ],
   "source": [
    "test = pd.read_csv(\"../data/test.csv\")\n",
    "test.info()"
   ]
  },
  {
   "cell_type": "code",
   "execution_count": 103,
   "metadata": {
    "ExecuteTime": {
     "end_time": "2020-07-17T13:39:18.602330Z",
     "start_time": "2020-07-17T13:39:18.585462Z"
    }
   },
   "outputs": [
    {
     "name": "stdout",
     "output_type": "stream",
     "text": [
      "I prepare the dataset\n",
      "Done\n"
     ]
    },
    {
     "data": {
      "text/plain": [
       "((418, 11), (891, 11))"
      ]
     },
     "execution_count": 103,
     "metadata": {},
     "output_type": "execute_result"
    }
   ],
   "source": [
    "test_2 = cleaning_dataset(test)\n",
    "test_2.shape, train_2.shape"
   ]
  },
  {
   "cell_type": "markdown",
   "metadata": {
    "ExecuteTime": {
     "end_time": "2020-07-17T13:35:16.755486Z",
     "start_time": "2020-07-17T13:35:16.687902Z"
    }
   },
   "source": [
    "## Submission"
   ]
  },
  {
   "cell_type": "code",
   "execution_count": 100,
   "metadata": {
    "ExecuteTime": {
     "end_time": "2020-07-17T13:34:42.213662Z",
     "start_time": "2020-07-17T13:34:42.164177Z"
    }
   },
   "outputs": [],
   "source": [
    "test_preds = clf.predict(test_2)"
   ]
  },
  {
   "cell_type": "code",
   "execution_count": 108,
   "metadata": {
    "ExecuteTime": {
     "end_time": "2020-07-17T13:41:48.876861Z",
     "start_time": "2020-07-17T13:41:48.870806Z"
    }
   },
   "outputs": [],
   "source": [
    "ds = pd.DataFrame()\n",
    "ds[\"PassengerId\"] = test.PassengerId\n",
    "ds[\"Survived\"] = test_preds"
   ]
  },
  {
   "cell_type": "code",
   "execution_count": 112,
   "metadata": {
    "ExecuteTime": {
     "end_time": "2020-07-17T13:45:19.079194Z",
     "start_time": "2020-07-17T13:45:19.074559Z"
    }
   },
   "outputs": [
    {
     "data": {
      "text/plain": [
       "(418, 2)"
      ]
     },
     "execution_count": 112,
     "metadata": {},
     "output_type": "execute_result"
    }
   ],
   "source": [
    "ds.shape"
   ]
  },
  {
   "cell_type": "code",
   "execution_count": 114,
   "metadata": {
    "ExecuteTime": {
     "end_time": "2020-07-17T13:46:35.006525Z",
     "start_time": "2020-07-17T13:46:34.997543Z"
    }
   },
   "outputs": [],
   "source": [
    "ds.to_csv(\"../submission/titanic_results.csv\", index=False)"
   ]
  },
  {
   "cell_type": "code",
   "execution_count": null,
   "metadata": {},
   "outputs": [],
   "source": []
  }
 ],
 "metadata": {
  "kernelspec": {
   "display_name": "Python 3",
   "language": "python",
   "name": "python3"
  },
  "language_info": {
   "codemirror_mode": {
    "name": "ipython",
    "version": 3
   },
   "file_extension": ".py",
   "mimetype": "text/x-python",
   "name": "python",
   "nbconvert_exporter": "python",
   "pygments_lexer": "ipython3",
   "version": "3.8.3"
  },
  "toc": {
   "base_numbering": 1,
   "nav_menu": {},
   "number_sections": true,
   "sideBar": true,
   "skip_h1_title": false,
   "title_cell": "Table of Contents",
   "title_sidebar": "Contents",
   "toc_cell": false,
   "toc_position": {},
   "toc_section_display": true,
   "toc_window_display": true
  }
 },
 "nbformat": 4,
 "nbformat_minor": 4
}
